{
  "nbformat": 4,
  "nbformat_minor": 0,
  "metadata": {
    "colab": {
      "name": "Ablation_CAM",
      "provenance": []
    },
    "kernelspec": {
      "name": "python3",
      "display_name": "Python 3"
    },
    "accelerator": "GPU"
  },
  "cells": [
    {
      "cell_type": "markdown",
      "metadata": {
        "id": "SYJfkOslruai",
        "colab_type": "text"
      },
      "source": [
        "# Importing All the required Library"
      ]
    },
    {
      "cell_type": "code",
      "metadata": {
        "id": "LK4JbCLV0j0g",
        "colab_type": "code",
        "colab": {}
      },
      "source": [
        "import numpy as np\n",
        "import tensorflow as tf\n",
        "from tensorflow import keras\n",
        "from IPython.display import Image\n",
        "import matplotlib.pyplot as plt\n",
        "import matplotlib.cm as cm\n",
        "import glob\n",
        "import matplotlib\n",
        "from matplotlib import pyplot as plt\n",
        "import matplotlib.image as mpimg\n",
        "import numpy as np\n",
        "import imageio as im\n",
        "from keras import models\n",
        "from keras.models import Sequential\n",
        "from keras.layers import Conv2D\n",
        "from keras.layers import MaxPool2D,BatchNormalization\n",
        "from keras.layers import Flatten\n",
        "from keras.layers import Dense\n",
        "from keras.layers import Dropout\n",
        "from keras.preprocessing import image\n",
        "from keras.preprocessing.image import ImageDataGenerator\n",
        "from keras.callbacks import ModelCheckpoint\n",
        "import pandas as pd\n",
        "import keras.backend as K\n",
        "import cv2"
      ],
      "execution_count": null,
      "outputs": []
    },
    {
      "cell_type": "markdown",
      "metadata": {
        "id": "M4qrLLcUr2Zs",
        "colab_type": "text"
      },
      "source": [
        "Importing the CIFAR-10 Dataset"
      ]
    },
    {
      "cell_type": "code",
      "metadata": {
        "id": "bTm0Px2r0vah",
        "colab_type": "code",
        "colab": {}
      },
      "source": [
        "(x_train,y_train),(x_test,y_test)=keras.datasets.cifar10.load_data()\n",
        "y_train = keras.utils.to_categorical(y_train, 10)\n",
        "y_test = keras.utils.to_categorical(y_test, 10)"
      ],
      "execution_count": null,
      "outputs": []
    },
    {
      "cell_type": "markdown",
      "metadata": {
        "id": "MjPCuWT-d1x8",
        "colab_type": "text"
      },
      "source": [
        "Defining the Model"
      ]
    },
    {
      "cell_type": "code",
      "metadata": {
        "id": "Jk2KztC-1EwT",
        "colab_type": "code",
        "colab": {
          "base_uri": "https://localhost:8080/",
          "height": 677
        },
        "outputId": "76798ff9-2814-481c-a1d7-f7857619581b"
      },
      "source": [
        "model = Sequential()\n",
        "model.add(Conv2D(128, kernel_size=(3, 3),activation='relu',kernel_initializer='he_normal',input_shape=(32,32,3)))\n",
        "model.add(Conv2D(128, kernel_size=(3, 3),activation='relu',kernel_initializer='he_normal'))\n",
        "model.add(MaxPool2D((2, 2)))\n",
        "model.add(Dropout(0.20))\n",
        "model.add(Conv2D(64, (3, 3), activation='relu',padding='same',kernel_initializer='he_normal'))\n",
        "model.add(Conv2D(64, (3, 3), activation='relu',padding='same',kernel_initializer='he_normal'))\n",
        "model.add(MaxPool2D(pool_size=(2, 2)))\n",
        "model.add(Dropout(0.25))\n",
        "model.add(Conv2D(32, (3, 3), activation='relu',padding='same',kernel_initializer='he_normal'))\n",
        "model.add(Dropout(0.25))\n",
        "model.add(Flatten())\n",
        "model.add(Dense(128, activation='relu'))\n",
        "model.add(BatchNormalization())\n",
        "model.add(Dropout(0.25))\n",
        "model.add(Dense(10, activation='softmax'))\n",
        "\n",
        "model.summary()"
      ],
      "execution_count": null,
      "outputs": [
        {
          "output_type": "stream",
          "text": [
            "Model: \"sequential_1\"\n",
            "_________________________________________________________________\n",
            "Layer (type)                 Output Shape              Param #   \n",
            "=================================================================\n",
            "conv2d_5 (Conv2D)            (None, 30, 30, 128)       3584      \n",
            "_________________________________________________________________\n",
            "conv2d_6 (Conv2D)            (None, 28, 28, 128)       147584    \n",
            "_________________________________________________________________\n",
            "max_pooling2d_2 (MaxPooling2 (None, 14, 14, 128)       0         \n",
            "_________________________________________________________________\n",
            "dropout_4 (Dropout)          (None, 14, 14, 128)       0         \n",
            "_________________________________________________________________\n",
            "conv2d_7 (Conv2D)            (None, 14, 14, 64)        73792     \n",
            "_________________________________________________________________\n",
            "conv2d_8 (Conv2D)            (None, 14, 14, 64)        36928     \n",
            "_________________________________________________________________\n",
            "max_pooling2d_3 (MaxPooling2 (None, 7, 7, 64)          0         \n",
            "_________________________________________________________________\n",
            "dropout_5 (Dropout)          (None, 7, 7, 64)          0         \n",
            "_________________________________________________________________\n",
            "conv2d_9 (Conv2D)            (None, 7, 7, 32)          18464     \n",
            "_________________________________________________________________\n",
            "dropout_6 (Dropout)          (None, 7, 7, 32)          0         \n",
            "_________________________________________________________________\n",
            "flatten_1 (Flatten)          (None, 1568)              0         \n",
            "_________________________________________________________________\n",
            "dense_2 (Dense)              (None, 128)               200832    \n",
            "_________________________________________________________________\n",
            "batch_normalization_1 (Batch (None, 128)               512       \n",
            "_________________________________________________________________\n",
            "dropout_7 (Dropout)          (None, 128)               0         \n",
            "_________________________________________________________________\n",
            "dense_3 (Dense)              (None, 10)                1290      \n",
            "=================================================================\n",
            "Total params: 482,986\n",
            "Trainable params: 482,730\n",
            "Non-trainable params: 256\n",
            "_________________________________________________________________\n"
          ],
          "name": "stdout"
        }
      ]
    },
    {
      "cell_type": "code",
      "metadata": {
        "id": "LwEhk2tm1sBI",
        "colab_type": "code",
        "colab": {}
      },
      "source": [
        "model.compile(optimizer=keras.optimizers.Adam(0.001),loss='categorical_crossentropy',metrics=['acc'])"
      ],
      "execution_count": null,
      "outputs": []
    },
    {
      "cell_type": "code",
      "metadata": {
        "id": "YE8KedrR2FN8",
        "colab_type": "code",
        "colab": {
          "base_uri": "https://localhost:8080/",
          "height": 382
        },
        "outputId": "2c96965c-13a5-41e3-e54c-3e04883ad1f0"
      },
      "source": [
        "model.fit(x_train,y_train,batch_size=32,epochs=10,validation_data=(x_test,y_test))"
      ],
      "execution_count": null,
      "outputs": [
        {
          "output_type": "stream",
          "text": [
            "Epoch 1/10\n",
            "1563/1563 [==============================] - 32s 20ms/step - loss: 0.7674 - acc: 0.7360 - val_loss: 0.6820 - val_acc: 0.7618\n",
            "Epoch 2/10\n",
            "1563/1563 [==============================] - 31s 20ms/step - loss: 0.7200 - acc: 0.7525 - val_loss: 0.6525 - val_acc: 0.7788\n",
            "Epoch 3/10\n",
            "1563/1563 [==============================] - 31s 20ms/step - loss: 0.6787 - acc: 0.7673 - val_loss: 0.6519 - val_acc: 0.7792\n",
            "Epoch 4/10\n",
            "1563/1563 [==============================] - 31s 20ms/step - loss: 0.6426 - acc: 0.7783 - val_loss: 0.6199 - val_acc: 0.7925\n",
            "Epoch 5/10\n",
            "1563/1563 [==============================] - 31s 20ms/step - loss: 0.6133 - acc: 0.7891 - val_loss: 0.6225 - val_acc: 0.7902\n",
            "Epoch 6/10\n",
            "1563/1563 [==============================] - 32s 20ms/step - loss: 0.5904 - acc: 0.7959 - val_loss: 0.5939 - val_acc: 0.7986\n",
            "Epoch 7/10\n",
            "1563/1563 [==============================] - 31s 20ms/step - loss: 0.5688 - acc: 0.8045 - val_loss: 0.5927 - val_acc: 0.8028\n",
            "Epoch 8/10\n",
            "1563/1563 [==============================] - 31s 20ms/step - loss: 0.5482 - acc: 0.8121 - val_loss: 0.5903 - val_acc: 0.7961\n",
            "Epoch 9/10\n",
            "1563/1563 [==============================] - 31s 20ms/step - loss: 0.5324 - acc: 0.8162 - val_loss: 0.5880 - val_acc: 0.8045\n",
            "Epoch 10/10\n",
            "1563/1563 [==============================] - 31s 20ms/step - loss: 0.5105 - acc: 0.8239 - val_loss: 0.5942 - val_acc: 0.8003\n"
          ],
          "name": "stdout"
        },
        {
          "output_type": "execute_result",
          "data": {
            "text/plain": [
              "<tensorflow.python.keras.callbacks.History at 0x7f31cc6f46d8>"
            ]
          },
          "metadata": {
            "tags": []
          },
          "execution_count": 97
        }
      ]
    },
    {
      "cell_type": "code",
      "metadata": {
        "id": "xS17X5px3g0J",
        "colab_type": "code",
        "colab": {}
      },
      "source": [
        "layer_outputs = [layer.output for layer in model.layers[:-5]] # Getting all the ouputs of layers (mainly Conv layers)"
      ],
      "execution_count": null,
      "outputs": []
    },
    {
      "cell_type": "code",
      "metadata": {
        "id": "CfzVCffU3igC",
        "colab_type": "code",
        "colab": {
          "base_uri": "https://localhost:8080/",
          "height": 191
        },
        "outputId": "046d320a-c4c3-449d-e3b2-ccd5340251b2"
      },
      "source": [
        "layer_outputs"
      ],
      "execution_count": null,
      "outputs": [
        {
          "output_type": "execute_result",
          "data": {
            "text/plain": [
              "[<tf.Tensor 'conv2d_5/Relu:0' shape=(None, 30, 30, 128) dtype=float32>,\n",
              " <tf.Tensor 'conv2d_6/Relu:0' shape=(None, 28, 28, 128) dtype=float32>,\n",
              " <tf.Tensor 'max_pooling2d_2/MaxPool:0' shape=(None, 14, 14, 128) dtype=float32>,\n",
              " <tf.Tensor 'dropout_4/cond/Identity:0' shape=(None, 14, 14, 128) dtype=float32>,\n",
              " <tf.Tensor 'conv2d_7/Relu:0' shape=(None, 14, 14, 64) dtype=float32>,\n",
              " <tf.Tensor 'conv2d_8/Relu:0' shape=(None, 14, 14, 64) dtype=float32>,\n",
              " <tf.Tensor 'max_pooling2d_3/MaxPool:0' shape=(None, 7, 7, 64) dtype=float32>,\n",
              " <tf.Tensor 'dropout_5/cond/Identity:0' shape=(None, 7, 7, 64) dtype=float32>,\n",
              " <tf.Tensor 'conv2d_9/Relu:0' shape=(None, 7, 7, 32) dtype=float32>,\n",
              " <tf.Tensor 'dropout_6/cond/Identity:0' shape=(None, 7, 7, 32) dtype=float32>]"
            ]
          },
          "metadata": {
            "tags": []
          },
          "execution_count": 99
        }
      ]
    },
    {
      "cell_type": "code",
      "metadata": {
        "id": "DUjJF5aG3vDf",
        "colab_type": "code",
        "colab": {}
      },
      "source": [
        "activation_model = models.Model(inputs=model.input, outputs=layer_outputs) # Activation model from Image to Last layer before Flatten"
      ],
      "execution_count": null,
      "outputs": []
    },
    {
      "cell_type": "markdown",
      "metadata": {
        "id": "kZE6ekp3sv6i",
        "colab_type": "text"
      },
      "source": [
        "Importing a image of cifar-10 classes (Aeroplane)"
      ]
    },
    {
      "cell_type": "code",
      "metadata": {
        "id": "lBqa0srD36h-",
        "colab_type": "code",
        "colab": {
          "base_uri": "https://localhost:8080/",
          "height": 283
        },
        "outputId": "d035ce6d-ad8d-4519-ef43-bf1afd292a30"
      },
      "source": [
        "img = keras.preprocessing.image.load_img('a.jpg',target_size=(32,32,3))\n",
        "img = keras.preprocessing.image.img_to_array(img)\n",
        "array=keras.preprocessing.image.img_to_array(img)\n",
        "array=np.expand_dims(array,axis=0)\n",
        "img_tensor = array\n",
        "img_tensor /= 255.\n",
        "plt.imshow(img_tensor[0])\n",
        "plt.show()\n",
        "print(img_tensor.shape)"
      ],
      "execution_count": null,
      "outputs": [
        {
          "output_type": "display_data",
          "data": {
            "image/png": "[encoded data removed]",
            "text/plain": [
              "<Figure size 432x288 with 1 Axes>"
            ]
          },
          "metadata": {
            "tags": [],
            "needs_background": "light"
          }
        },
        {
          "output_type": "stream",
          "text": [
            "(1, 32, 32, 3)\n"
          ],
          "name": "stdout"
        }
      ]
    },
    {
      "cell_type": "code",
      "metadata": {
        "id": "eZHqVQlq4mLf",
        "colab_type": "code",
        "colab": {
          "base_uri": "https://localhost:8080/",
          "height": 69
        },
        "outputId": "18e6ea61-c7aa-469a-d0b1-93493232775f"
      },
      "source": [
        "model.predict(img_tensor)"
      ],
      "execution_count": null,
      "outputs": [
        {
          "output_type": "execute_result",
          "data": {
            "text/plain": [
              "array([[0.01994794, 0.00705175, 0.2063187 , 0.17225969, 0.26422638,\n",
              "        0.04592136, 0.22877358, 0.01912298, 0.02850043, 0.00787729]],\n",
              "      dtype=float32)"
            ]
          },
          "metadata": {
            "tags": []
          },
          "execution_count": 102
        }
      ]
    },
    {
      "cell_type": "code",
      "metadata": {
        "id": "JwHkk0225Zvm",
        "colab_type": "code",
        "colab": {
          "base_uri": "https://localhost:8080/",
          "height": 72
        },
        "outputId": "3afc7423-1480-4c04-a11d-8a3e1043dee3"
      },
      "source": [
        "activations = activation_model.predict(img_tensor) \n",
        "last_layer_activation = activations[8]\n",
        "print(last_layer_activation.shape)"
      ],
      "execution_count": null,
      "outputs": [
        {
          "output_type": "stream",
          "text": [
            "WARNING:tensorflow:5 out of the last 22 calls to <function Model.make_predict_function.<locals>.predict_function at 0x7f31cc672378> triggered tf.function retracing. Tracing is expensive and the excessive number of tracings could be due to (1) creating @tf.function repeatedly in a loop, (2) passing tensors with different shapes, (3) passing Python objects instead of tensors. For (1), please define your @tf.function outside of the loop. For (2), @tf.function has experimental_relax_shapes=True option that relaxes argument shapes that can avoid unnecessary retracing. For (3), please refer to https://www.tensorflow.org/tutorials/customization/performance#python_or_tensor_args and https://www.tensorflow.org/api_docs/python/tf/function for  more details.\n",
            "(1, 7, 7, 32)\n"
          ],
          "name": "stdout"
        }
      ]
    },
    {
      "cell_type": "code",
      "metadata": {
        "id": "yuwxEU2W7Ptz",
        "colab_type": "code",
        "colab": {
          "base_uri": "https://localhost:8080/",
          "height": 282
        },
        "outputId": "14203a2d-ebb0-44c0-9644-0d11dd289757"
      },
      "source": [
        "heatmap = np.mean(last_layer_activation, axis=-1)\n",
        "heatmap = np.maximum(heatmap, 0) / np.max(heatmap)\n",
        "plt.imshow(heatmap[0])"
      ],
      "execution_count": null,
      "outputs": [
        {
          "output_type": "execute_result",
          "data": {
            "text/plain": [
              "<matplotlib.image.AxesImage at 0x7f31cc5e1198>"
            ]
          },
          "metadata": {
            "tags": []
          },
          "execution_count": 104
        },
        {
          "output_type": "display_data",
          "data": {
            "image/png": "[encoded data removed]",
            "text/plain": [
              "<Figure size 432x288 with 1 Axes>"
            ]
          },
          "metadata": {
            "tags": [],
            "needs_background": "light"
          }
        }
      ]
    },
    {
      "cell_type": "code",
      "metadata": {
        "id": "UfVNRRqsWoPM",
        "colab_type": "code",
        "colab": {
          "base_uri": "https://localhost:8080/",
          "height": 34
        },
        "outputId": "18ca7add-3af1-4853-8906-d507dad46757"
      },
      "source": [
        "heatmap=heatmap[0,:,:,]\n",
        "heatmap.shape"
      ],
      "execution_count": null,
      "outputs": [
        {
          "output_type": "execute_result",
          "data": {
            "text/plain": [
              "(7, 7)"
            ]
          },
          "metadata": {
            "tags": []
          },
          "execution_count": 105
        }
      ]
    },
    {
      "cell_type": "markdown",
      "metadata": {
        "id": "cePoKlOGtlnk",
        "colab_type": "text"
      },
      "source": [
        "Replacing all the 0 values with epsilon as it leads to mathematical errors"
      ]
    },
    {
      "cell_type": "code",
      "metadata": {
        "id": "PQmL9bMXaRdb",
        "colab_type": "code",
        "colab": {}
      },
      "source": [
        "eps = K.epsilon()\n",
        "for i in range(len(last_layer_activation[0])):\n",
        "  for j in range(len(last_layer_activation[0][i])):\n",
        "    for k in range(len(last_layer_activation[0][i][j])):\n",
        "      if last_layer_activation[0][i][j][k]==0.:\n",
        "        last_layer_activation[0][i][j][k]=eps"
      ],
      "execution_count": null,
      "outputs": []
    },
    {
      "cell_type": "code",
      "metadata": {
        "id": "RmbM9z_hcqYq",
        "colab_type": "code",
        "colab": {
          "base_uri": "https://localhost:8080/",
          "height": 1000
        },
        "outputId": "23cff4fc-cfd9-43d4-e8e5-a8a37fed014f"
      },
      "source": [
        "last_layer_activation #final last layer activation"
      ],
      "execution_count": null,
      "outputs": [
        {
          "output_type": "execute_result",
          "data": {
            "text/plain": [
              "array([[[[1.00000001e-07, 1.00000001e-07, 1.75954956e+02, ...,\n",
              "          1.00000001e-07, 1.00000001e-07, 1.00000001e-07],\n",
              "         [3.33854027e+01, 1.00000001e-07, 8.10349197e+01, ...,\n",
              "          1.00000001e-07, 1.00000001e-07, 1.00000001e-07],\n",
              "         [1.00000001e-07, 1.00000001e-07, 1.38178345e+02, ...,\n",
              "          1.00000001e-07, 1.00000001e-07, 6.64463196e+01],\n",
              "         ...,\n",
              "         [1.00000001e-07, 1.00000001e-07, 1.35166214e+02, ...,\n",
              "          1.00000001e-07, 1.00000001e-07, 6.06854858e+01],\n",
              "         [1.00000001e-07, 1.00000001e-07, 1.64828506e+02, ...,\n",
              "          1.00000001e-07, 1.00000001e-07, 4.79073944e+01],\n",
              "         [7.12294769e+01, 1.00000001e-07, 1.01570099e+02, ...,\n",
              "          8.25197983e+00, 1.00000001e-07, 3.17642956e+01]],\n",
              "\n",
              "        [[1.00000001e-07, 1.00000001e-07, 3.29737806e+00, ...,\n",
              "          1.00000001e-07, 1.00000001e-07, 1.00000001e-07],\n",
              "         [4.34948578e+01, 1.00000001e-07, 1.00000001e-07, ...,\n",
              "          5.39723091e+01, 1.00000001e-07, 1.00000001e-07],\n",
              "         [1.00000001e-07, 1.00000001e-07, 1.00000001e-07, ...,\n",
              "          7.02292175e+01, 1.00000001e-07, 1.00000001e-07],\n",
              "         ...,\n",
              "         [1.80344334e+01, 1.00000001e-07, 1.00000001e-07, ...,\n",
              "          1.05584290e+02, 1.00000001e-07, 1.00000001e-07],\n",
              "         [8.79123077e+01, 1.00000001e-07, 1.00000001e-07, ...,\n",
              "          1.22568985e+02, 1.00000001e-07, 1.00000001e-07],\n",
              "         [1.39820877e+02, 1.00000001e-07, 1.00000001e-07, ...,\n",
              "          1.78091522e+02, 1.00000001e-07, 1.00000001e-07]],\n",
              "\n",
              "        [[1.00000001e-07, 1.00000001e-07, 1.00000001e-07, ...,\n",
              "          1.00000001e-07, 1.00000001e-07, 1.00000001e-07],\n",
              "         [7.64217758e+01, 4.78997726e+01, 1.00000001e-07, ...,\n",
              "          1.03679497e+02, 1.00000001e-07, 1.00000001e-07],\n",
              "         [1.00000001e-07, 1.00000001e-07, 1.00000001e-07, ...,\n",
              "          1.28046768e+02, 1.00000001e-07, 1.00000001e-07],\n",
              "         ...,\n",
              "         [8.05195618e+01, 1.00000001e-07, 1.00000001e-07, ...,\n",
              "          1.94214722e+02, 1.00000001e-07, 1.00000001e-07],\n",
              "         [3.10696640e+01, 1.00000001e-07, 1.00000001e-07, ...,\n",
              "          2.64767242e+02, 1.00000001e-07, 1.00000001e-07],\n",
              "         [1.00000001e-07, 9.30218315e+00, 1.00000001e-07, ...,\n",
              "          2.16702698e+02, 9.43707504e+01, 1.00000001e-07]],\n",
              "\n",
              "        ...,\n",
              "\n",
              "        [[1.00000001e-07, 1.00000001e-07, 1.00000001e-07, ...,\n",
              "          1.00000001e-07, 1.00000001e-07, 1.00000001e-07],\n",
              "         [1.00000001e-07, 1.00000001e-07, 5.70694351e+01, ...,\n",
              "          3.07987652e+01, 1.00000001e-07, 1.00000001e-07],\n",
              "         [1.00000001e-07, 1.00000001e-07, 1.00000001e-07, ...,\n",
              "          1.08833145e+02, 1.00000001e-07, 8.60939407e+01],\n",
              "         ...,\n",
              "         [1.00000001e-07, 1.00000001e-07, 1.23758919e+02, ...,\n",
              "          7.01589661e+01, 1.00000001e-07, 1.00000001e-07],\n",
              "         [1.00000001e-07, 1.00000001e-07, 7.30307541e+01, ...,\n",
              "          1.00000001e-07, 1.00000001e-07, 4.33580637e+00],\n",
              "         [1.00000001e-07, 1.00000001e-07, 1.00231628e+02, ...,\n",
              "          5.17228508e+00, 4.16430740e+01, 1.00000001e-07]],\n",
              "\n",
              "        [[1.00000001e-07, 1.00000001e-07, 1.00000001e-07, ...,\n",
              "          1.00000001e-07, 1.00000001e-07, 1.00000001e-07],\n",
              "         [1.00000001e-07, 1.00000001e-07, 1.31350739e+02, ...,\n",
              "          2.00592709e+01, 1.00000001e-07, 1.00000001e-07],\n",
              "         [1.00000001e-07, 1.00000001e-07, 5.41011848e+01, ...,\n",
              "          4.12559090e+01, 1.00000001e-07, 6.58129358e+00],\n",
              "         ...,\n",
              "         [1.00000001e-07, 1.00000001e-07, 3.65446167e+01, ...,\n",
              "          6.35417900e+01, 1.00000001e-07, 1.00000001e-07],\n",
              "         [1.00000001e-07, 1.00000001e-07, 1.00000001e-07, ...,\n",
              "          5.97834015e+01, 1.00000001e-07, 1.00000001e-07],\n",
              "         [2.96648235e+01, 1.00000001e-07, 1.00000001e-07, ...,\n",
              "          1.16424622e+02, 1.00000001e-07, 1.00000001e-07]],\n",
              "\n",
              "        [[1.00000001e-07, 1.00000001e-07, 1.00000001e-07, ...,\n",
              "          1.00000001e-07, 1.00000001e-07, 1.00000001e-07],\n",
              "         [1.00000001e-07, 4.41209793e+00, 1.00000001e-07, ...,\n",
              "          1.56372852e+01, 1.21602640e+01, 1.00000001e-07],\n",
              "         [1.00000001e-07, 1.00000001e-07, 1.00000001e-07, ...,\n",
              "          8.96593323e+01, 6.26025200e+00, 1.00000001e-07],\n",
              "         ...,\n",
              "         [1.03425512e+01, 1.00000001e-07, 1.00000001e-07, ...,\n",
              "          9.85811996e+01, 1.00000001e-07, 1.00000001e-07],\n",
              "         [2.54845257e+01, 1.00000001e-07, 1.00000001e-07, ...,\n",
              "          7.68050766e+01, 1.90530224e+01, 1.00000001e-07],\n",
              "         [1.68736591e+01, 1.00000001e-07, 1.00000001e-07, ...,\n",
              "          9.16100235e+01, 1.40524721e+01, 1.00000001e-07]]]],\n",
              "      dtype=float32)"
            ]
          },
          "metadata": {
            "tags": []
          },
          "execution_count": 107
        }
      ]
    },
    {
      "cell_type": "markdown",
      "metadata": {
        "id": "IR9BjOuQt3Je",
        "colab_type": "text"
      },
      "source": [
        "Creating another Ablated image for the process"
      ]
    },
    {
      "cell_type": "code",
      "metadata": {
        "id": "KhnPlv795u0F",
        "colab_type": "code",
        "colab": {}
      },
      "source": [
        "image_final=np.zeros_like(img_tensor)\n",
        "activations_final = activation_model.predict(image_final) "
      ],
      "execution_count": null,
      "outputs": []
    },
    {
      "cell_type": "code",
      "metadata": {
        "id": "woqrzW059v1a",
        "colab_type": "code",
        "colab": {
          "base_uri": "https://localhost:8080/",
          "height": 1000
        },
        "outputId": "0cd450cb-731b-449f-8537-dc6fadfed062"
      },
      "source": [
        "activations_final"
      ],
      "execution_count": null,
      "outputs": [
        {
          "output_type": "execute_result",
          "data": {
            "text/plain": [
              "[array([[[[0.6795971 , 0.06449035, 1.2069532 , ..., 0.1766163 ,\n",
              "           0.03976811, 0.07192809],\n",
              "          [0.6795971 , 0.06449035, 1.2069532 , ..., 0.1766163 ,\n",
              "           0.03976811, 0.07192809],\n",
              "          [0.6795971 , 0.06449035, 1.2069532 , ..., 0.1766163 ,\n",
              "           0.03976811, 0.07192809],\n",
              "          ...,\n",
              "          [0.6795971 , 0.06449035, 1.2069532 , ..., 0.1766163 ,\n",
              "           0.03976811, 0.07192809],\n",
              "          [0.6795971 , 0.06449035, 1.2069532 , ..., 0.1766163 ,\n",
              "           0.03976811, 0.07192809],\n",
              "          [0.6795971 , 0.06449035, 1.2069532 , ..., 0.1766163 ,\n",
              "           0.03976811, 0.07192809]],\n",
              " \n",
              "         [[0.6795971 , 0.06449035, 1.2069532 , ..., 0.1766163 ,\n",
              "           0.03976811, 0.07192809],\n",
              "          [0.6795971 , 0.06449035, 1.2069532 , ..., 0.1766163 ,\n",
              "           0.03976811, 0.07192809],\n",
              "          [0.6795971 , 0.06449035, 1.2069532 , ..., 0.1766163 ,\n",
              "           0.03976811, 0.07192809],\n",
              "          ...,\n",
              "          [0.6795971 , 0.06449035, 1.2069532 , ..., 0.1766163 ,\n",
              "           0.03976811, 0.07192809],\n",
              "          [0.6795971 , 0.06449035, 1.2069532 , ..., 0.1766163 ,\n",
              "           0.03976811, 0.07192809],\n",
              "          [0.6795971 , 0.06449035, 1.2069532 , ..., 0.1766163 ,\n",
              "           0.03976811, 0.07192809]],\n",
              " \n",
              "         [[0.6795971 , 0.06449035, 1.2069532 , ..., 0.1766163 ,\n",
              "           0.03976811, 0.07192809],\n",
              "          [0.6795971 , 0.06449035, 1.2069532 , ..., 0.1766163 ,\n",
              "           0.03976811, 0.07192809],\n",
              "          [0.6795971 , 0.06449035, 1.2069532 , ..., 0.1766163 ,\n",
              "           0.03976811, 0.07192809],\n",
              "          ...,\n",
              "          [0.6795971 , 0.06449035, 1.2069532 , ..., 0.1766163 ,\n",
              "           0.03976811, 0.07192809],\n",
              "          [0.6795971 , 0.06449035, 1.2069532 , ..., 0.1766163 ,\n",
              "           0.03976811, 0.07192809],\n",
              "          [0.6795971 , 0.06449035, 1.2069532 , ..., 0.1766163 ,\n",
              "           0.03976811, 0.07192809]],\n",
              " \n",
              "         ...,\n",
              " \n",
              "         [[0.6795971 , 0.06449035, 1.2069532 , ..., 0.1766163 ,\n",
              "           0.03976811, 0.07192809],\n",
              "          [0.6795971 , 0.06449035, 1.2069532 , ..., 0.1766163 ,\n",
              "           0.03976811, 0.07192809],\n",
              "          [0.6795971 , 0.06449035, 1.2069532 , ..., 0.1766163 ,\n",
              "           0.03976811, 0.07192809],\n",
              "          ...,\n",
              "          [0.6795971 , 0.06449035, 1.2069532 , ..., 0.1766163 ,\n",
              "           0.03976811, 0.07192809],\n",
              "          [0.6795971 , 0.06449035, 1.2069532 , ..., 0.1766163 ,\n",
              "           0.03976811, 0.07192809],\n",
              "          [0.6795971 , 0.06449035, 1.2069532 , ..., 0.1766163 ,\n",
              "           0.03976811, 0.07192809]],\n",
              " \n",
              "         [[0.6795971 , 0.06449035, 1.2069532 , ..., 0.1766163 ,\n",
              "           0.03976811, 0.07192809],\n",
              "          [0.6795971 , 0.06449035, 1.2069532 , ..., 0.1766163 ,\n",
              "           0.03976811, 0.07192809],\n",
              "          [0.6795971 , 0.06449035, 1.2069532 , ..., 0.1766163 ,\n",
              "           0.03976811, 0.07192809],\n",
              "          ...,\n",
              "          [0.6795971 , 0.06449035, 1.2069532 , ..., 0.1766163 ,\n",
              "           0.03976811, 0.07192809],\n",
              "          [0.6795971 , 0.06449035, 1.2069532 , ..., 0.1766163 ,\n",
              "           0.03976811, 0.07192809],\n",
              "          [0.6795971 , 0.06449035, 1.2069532 , ..., 0.1766163 ,\n",
              "           0.03976811, 0.07192809]],\n",
              " \n",
              "         [[0.6795971 , 0.06449035, 1.2069532 , ..., 0.1766163 ,\n",
              "           0.03976811, 0.07192809],\n",
              "          [0.6795971 , 0.06449035, 1.2069532 , ..., 0.1766163 ,\n",
              "           0.03976811, 0.07192809],\n",
              "          [0.6795971 , 0.06449035, 1.2069532 , ..., 0.1766163 ,\n",
              "           0.03976811, 0.07192809],\n",
              "          ...,\n",
              "          [0.6795971 , 0.06449035, 1.2069532 , ..., 0.1766163 ,\n",
              "           0.03976811, 0.07192809],\n",
              "          [0.6795971 , 0.06449035, 1.2069532 , ..., 0.1766163 ,\n",
              "           0.03976811, 0.07192809],\n",
              "          [0.6795971 , 0.06449035, 1.2069532 , ..., 0.1766163 ,\n",
              "           0.03976811, 0.07192809]]]], dtype=float32),\n",
              " array([[[[0., 0., 0., ..., 0., 0., 0.],\n",
              "          [0., 0., 0., ..., 0., 0., 0.],\n",
              "          [0., 0., 0., ..., 0., 0., 0.],\n",
              "          ...,\n",
              "          [0., 0., 0., ..., 0., 0., 0.],\n",
              "          [0., 0., 0., ..., 0., 0., 0.],\n",
              "          [0., 0., 0., ..., 0., 0., 0.]],\n",
              " \n",
              "         [[0., 0., 0., ..., 0., 0., 0.],\n",
              "          [0., 0., 0., ..., 0., 0., 0.],\n",
              "          [0., 0., 0., ..., 0., 0., 0.],\n",
              "          ...,\n",
              "          [0., 0., 0., ..., 0., 0., 0.],\n",
              "          [0., 0., 0., ..., 0., 0., 0.],\n",
              "          [0., 0., 0., ..., 0., 0., 0.]],\n",
              " \n",
              "         [[0., 0., 0., ..., 0., 0., 0.],\n",
              "          [0., 0., 0., ..., 0., 0., 0.],\n",
              "          [0., 0., 0., ..., 0., 0., 0.],\n",
              "          ...,\n",
              "          [0., 0., 0., ..., 0., 0., 0.],\n",
              "          [0., 0., 0., ..., 0., 0., 0.],\n",
              "          [0., 0., 0., ..., 0., 0., 0.]],\n",
              " \n",
              "         ...,\n",
              " \n",
              "         [[0., 0., 0., ..., 0., 0., 0.],\n",
              "          [0., 0., 0., ..., 0., 0., 0.],\n",
              "          [0., 0., 0., ..., 0., 0., 0.],\n",
              "          ...,\n",
              "          [0., 0., 0., ..., 0., 0., 0.],\n",
              "          [0., 0., 0., ..., 0., 0., 0.],\n",
              "          [0., 0., 0., ..., 0., 0., 0.]],\n",
              " \n",
              "         [[0., 0., 0., ..., 0., 0., 0.],\n",
              "          [0., 0., 0., ..., 0., 0., 0.],\n",
              "          [0., 0., 0., ..., 0., 0., 0.],\n",
              "          ...,\n",
              "          [0., 0., 0., ..., 0., 0., 0.],\n",
              "          [0., 0., 0., ..., 0., 0., 0.],\n",
              "          [0., 0., 0., ..., 0., 0., 0.]],\n",
              " \n",
              "         [[0., 0., 0., ..., 0., 0., 0.],\n",
              "          [0., 0., 0., ..., 0., 0., 0.],\n",
              "          [0., 0., 0., ..., 0., 0., 0.],\n",
              "          ...,\n",
              "          [0., 0., 0., ..., 0., 0., 0.],\n",
              "          [0., 0., 0., ..., 0., 0., 0.],\n",
              "          [0., 0., 0., ..., 0., 0., 0.]]]], dtype=float32),\n",
              " array([[[[0., 0., 0., ..., 0., 0., 0.],\n",
              "          [0., 0., 0., ..., 0., 0., 0.],\n",
              "          [0., 0., 0., ..., 0., 0., 0.],\n",
              "          ...,\n",
              "          [0., 0., 0., ..., 0., 0., 0.],\n",
              "          [0., 0., 0., ..., 0., 0., 0.],\n",
              "          [0., 0., 0., ..., 0., 0., 0.]],\n",
              " \n",
              "         [[0., 0., 0., ..., 0., 0., 0.],\n",
              "          [0., 0., 0., ..., 0., 0., 0.],\n",
              "          [0., 0., 0., ..., 0., 0., 0.],\n",
              "          ...,\n",
              "          [0., 0., 0., ..., 0., 0., 0.],\n",
              "          [0., 0., 0., ..., 0., 0., 0.],\n",
              "          [0., 0., 0., ..., 0., 0., 0.]],\n",
              " \n",
              "         [[0., 0., 0., ..., 0., 0., 0.],\n",
              "          [0., 0., 0., ..., 0., 0., 0.],\n",
              "          [0., 0., 0., ..., 0., 0., 0.],\n",
              "          ...,\n",
              "          [0., 0., 0., ..., 0., 0., 0.],\n",
              "          [0., 0., 0., ..., 0., 0., 0.],\n",
              "          [0., 0., 0., ..., 0., 0., 0.]],\n",
              " \n",
              "         ...,\n",
              " \n",
              "         [[0., 0., 0., ..., 0., 0., 0.],\n",
              "          [0., 0., 0., ..., 0., 0., 0.],\n",
              "          [0., 0., 0., ..., 0., 0., 0.],\n",
              "          ...,\n",
              "          [0., 0., 0., ..., 0., 0., 0.],\n",
              "          [0., 0., 0., ..., 0., 0., 0.],\n",
              "          [0., 0., 0., ..., 0., 0., 0.]],\n",
              " \n",
              "         [[0., 0., 0., ..., 0., 0., 0.],\n",
              "          [0., 0., 0., ..., 0., 0., 0.],\n",
              "          [0., 0., 0., ..., 0., 0., 0.],\n",
              "          ...,\n",
              "          [0., 0., 0., ..., 0., 0., 0.],\n",
              "          [0., 0., 0., ..., 0., 0., 0.],\n",
              "          [0., 0., 0., ..., 0., 0., 0.]],\n",
              " \n",
              "         [[0., 0., 0., ..., 0., 0., 0.],\n",
              "          [0., 0., 0., ..., 0., 0., 0.],\n",
              "          [0., 0., 0., ..., 0., 0., 0.],\n",
              "          ...,\n",
              "          [0., 0., 0., ..., 0., 0., 0.],\n",
              "          [0., 0., 0., ..., 0., 0., 0.],\n",
              "          [0., 0., 0., ..., 0., 0., 0.]]]], dtype=float32),\n",
              " array([[[[0., 0., 0., ..., 0., 0., 0.],\n",
              "          [0., 0., 0., ..., 0., 0., 0.],\n",
              "          [0., 0., 0., ..., 0., 0., 0.],\n",
              "          ...,\n",
              "          [0., 0., 0., ..., 0., 0., 0.],\n",
              "          [0., 0., 0., ..., 0., 0., 0.],\n",
              "          [0., 0., 0., ..., 0., 0., 0.]],\n",
              " \n",
              "         [[0., 0., 0., ..., 0., 0., 0.],\n",
              "          [0., 0., 0., ..., 0., 0., 0.],\n",
              "          [0., 0., 0., ..., 0., 0., 0.],\n",
              "          ...,\n",
              "          [0., 0., 0., ..., 0., 0., 0.],\n",
              "          [0., 0., 0., ..., 0., 0., 0.],\n",
              "          [0., 0., 0., ..., 0., 0., 0.]],\n",
              " \n",
              "         [[0., 0., 0., ..., 0., 0., 0.],\n",
              "          [0., 0., 0., ..., 0., 0., 0.],\n",
              "          [0., 0., 0., ..., 0., 0., 0.],\n",
              "          ...,\n",
              "          [0., 0., 0., ..., 0., 0., 0.],\n",
              "          [0., 0., 0., ..., 0., 0., 0.],\n",
              "          [0., 0., 0., ..., 0., 0., 0.]],\n",
              " \n",
              "         ...,\n",
              " \n",
              "         [[0., 0., 0., ..., 0., 0., 0.],\n",
              "          [0., 0., 0., ..., 0., 0., 0.],\n",
              "          [0., 0., 0., ..., 0., 0., 0.],\n",
              "          ...,\n",
              "          [0., 0., 0., ..., 0., 0., 0.],\n",
              "          [0., 0., 0., ..., 0., 0., 0.],\n",
              "          [0., 0., 0., ..., 0., 0., 0.]],\n",
              " \n",
              "         [[0., 0., 0., ..., 0., 0., 0.],\n",
              "          [0., 0., 0., ..., 0., 0., 0.],\n",
              "          [0., 0., 0., ..., 0., 0., 0.],\n",
              "          ...,\n",
              "          [0., 0., 0., ..., 0., 0., 0.],\n",
              "          [0., 0., 0., ..., 0., 0., 0.],\n",
              "          [0., 0., 0., ..., 0., 0., 0.]],\n",
              " \n",
              "         [[0., 0., 0., ..., 0., 0., 0.],\n",
              "          [0., 0., 0., ..., 0., 0., 0.],\n",
              "          [0., 0., 0., ..., 0., 0., 0.],\n",
              "          ...,\n",
              "          [0., 0., 0., ..., 0., 0., 0.],\n",
              "          [0., 0., 0., ..., 0., 0., 0.],\n",
              "          [0., 0., 0., ..., 0., 0., 0.]]]], dtype=float32),\n",
              " array([[[[0.       , 0.       , 0.       , ..., 3.34688  , 0.       ,\n",
              "           1.707391 ],\n",
              "          [1.4924911, 0.       , 0.       , ..., 5.6226635, 0.       ,\n",
              "           0.       ],\n",
              "          [1.4924911, 0.       , 0.       , ..., 5.6226635, 0.       ,\n",
              "           0.       ],\n",
              "          ...,\n",
              "          [1.4924911, 0.       , 0.       , ..., 5.6226635, 0.       ,\n",
              "           0.       ],\n",
              "          [1.4924911, 0.       , 0.       , ..., 5.6226635, 0.       ,\n",
              "           0.       ],\n",
              "          [1.9606524, 0.       , 0.       , ..., 5.8473296, 0.       ,\n",
              "           0.       ]],\n",
              " \n",
              "         [[0.       , 0.       , 0.       , ..., 2.3978128, 0.       ,\n",
              "           1.7528799],\n",
              "          [2.7846832, 0.       , 0.       , ..., 4.48916  , 0.       ,\n",
              "           0.       ],\n",
              "          [2.7846832, 0.       , 0.       , ..., 4.48916  , 0.       ,\n",
              "           0.       ],\n",
              "          ...,\n",
              "          [2.7846832, 0.       , 0.       , ..., 4.48916  , 0.       ,\n",
              "           0.       ],\n",
              "          [2.7846832, 0.       , 0.       , ..., 4.48916  , 0.       ,\n",
              "           0.       ],\n",
              "          [3.778418 , 0.       , 0.       , ..., 5.869661 , 0.       ,\n",
              "           0.       ]],\n",
              " \n",
              "         [[0.       , 0.       , 0.       , ..., 2.3978128, 0.       ,\n",
              "           1.7528799],\n",
              "          [2.7846832, 0.       , 0.       , ..., 4.48916  , 0.       ,\n",
              "           0.       ],\n",
              "          [2.7846832, 0.       , 0.       , ..., 4.48916  , 0.       ,\n",
              "           0.       ],\n",
              "          ...,\n",
              "          [2.7846832, 0.       , 0.       , ..., 4.48916  , 0.       ,\n",
              "           0.       ],\n",
              "          [2.7846832, 0.       , 0.       , ..., 4.48916  , 0.       ,\n",
              "           0.       ],\n",
              "          [3.778418 , 0.       , 0.       , ..., 5.869661 , 0.       ,\n",
              "           0.       ]],\n",
              " \n",
              "         ...,\n",
              " \n",
              "         [[0.       , 0.       , 0.       , ..., 2.3978128, 0.       ,\n",
              "           1.7528799],\n",
              "          [2.7846832, 0.       , 0.       , ..., 4.48916  , 0.       ,\n",
              "           0.       ],\n",
              "          [2.7846832, 0.       , 0.       , ..., 4.48916  , 0.       ,\n",
              "           0.       ],\n",
              "          ...,\n",
              "          [2.7846832, 0.       , 0.       , ..., 4.48916  , 0.       ,\n",
              "           0.       ],\n",
              "          [2.7846832, 0.       , 0.       , ..., 4.48916  , 0.       ,\n",
              "           0.       ],\n",
              "          [3.778418 , 0.       , 0.       , ..., 5.869661 , 0.       ,\n",
              "           0.       ]],\n",
              " \n",
              "         [[0.       , 0.       , 0.       , ..., 2.3978128, 0.       ,\n",
              "           1.7528799],\n",
              "          [2.7846832, 0.       , 0.       , ..., 4.48916  , 0.       ,\n",
              "           0.       ],\n",
              "          [2.7846832, 0.       , 0.       , ..., 4.48916  , 0.       ,\n",
              "           0.       ],\n",
              "          ...,\n",
              "          [2.7846832, 0.       , 0.       , ..., 4.48916  , 0.       ,\n",
              "           0.       ],\n",
              "          [2.7846832, 0.       , 0.       , ..., 4.48916  , 0.       ,\n",
              "           0.       ],\n",
              "          [3.778418 , 0.       , 0.       , ..., 5.869661 , 0.       ,\n",
              "           0.       ]],\n",
              " \n",
              "         [[0.4953097, 0.       , 0.       , ..., 1.642162 , 0.       ,\n",
              "           0.6480367],\n",
              "          [3.1878629, 0.       , 0.       , ..., 2.8946846, 0.       ,\n",
              "           0.       ],\n",
              "          [3.1878629, 0.       , 0.       , ..., 2.8946846, 0.       ,\n",
              "           0.       ],\n",
              "          ...,\n",
              "          [3.1878629, 0.       , 0.       , ..., 2.8946846, 0.       ,\n",
              "           0.       ],\n",
              "          [3.1878629, 0.       , 0.       , ..., 2.8946846, 0.       ,\n",
              "           0.       ],\n",
              "          [3.6729107, 0.3600062, 0.       , ..., 3.8463135, 0.       ,\n",
              "           0.       ]]]], dtype=float32),\n",
              " array([[[[ 0.        ,  0.        ,  0.24237841, ...,  0.        ,\n",
              "            0.        ,  0.        ],\n",
              "          [ 0.        ,  0.        ,  0.        , ...,  0.        ,\n",
              "            0.        ,  0.        ],\n",
              "          [ 0.        ,  0.        ,  6.3446236 , ...,  0.        ,\n",
              "            0.        ,  0.        ],\n",
              "          ...,\n",
              "          [ 0.        ,  0.        ,  6.3446236 , ...,  0.        ,\n",
              "            0.        ,  0.        ],\n",
              "          [ 0.        ,  0.        ,  9.17039   , ...,  0.        ,\n",
              "            0.        ,  0.        ],\n",
              "          [ 0.        ,  0.        ,  5.1523533 , ...,  0.        ,\n",
              "            0.        ,  0.        ]],\n",
              " \n",
              "         [[ 0.        ,  0.        ,  0.        , ...,  0.        ,\n",
              "            0.        ,  0.        ],\n",
              "          [ 0.        ,  0.        ,  0.        , ...,  0.        ,\n",
              "            0.        ,  0.        ],\n",
              "          [ 0.        ,  0.        ,  8.221461  , ...,  0.        ,\n",
              "            0.        ,  0.        ],\n",
              "          ...,\n",
              "          [ 0.        ,  0.        ,  8.221461  , ...,  0.        ,\n",
              "            0.        ,  0.        ],\n",
              "          [ 0.        ,  0.        , 10.425682  , ...,  0.        ,\n",
              "            0.        ,  0.        ],\n",
              "          [ 0.        ,  0.        ,  5.8176775 , ...,  0.        ,\n",
              "            0.        ,  0.        ]],\n",
              " \n",
              "         [[ 0.        ,  0.        ,  1.8620465 , ...,  0.        ,\n",
              "            0.        ,  0.        ],\n",
              "          [ 0.        ,  0.        ,  2.6569293 , ...,  0.        ,\n",
              "            0.        ,  0.        ],\n",
              "          [ 0.        ,  0.        , 14.8262005 , ...,  0.        ,\n",
              "            0.        ,  0.        ],\n",
              "          ...,\n",
              "          [ 0.        ,  0.        , 14.8262005 , ...,  0.        ,\n",
              "            0.        ,  0.        ],\n",
              "          [ 0.        ,  0.        , 17.41685   , ...,  0.        ,\n",
              "            0.        ,  0.        ],\n",
              "          [ 0.        ,  0.        , 10.08805   , ...,  0.        ,\n",
              "            0.        ,  0.        ]],\n",
              " \n",
              "         ...,\n",
              " \n",
              "         [[ 0.        ,  0.        ,  1.8620465 , ...,  0.        ,\n",
              "            0.        ,  0.        ],\n",
              "          [ 0.        ,  0.        ,  2.6569293 , ...,  0.        ,\n",
              "            0.        ,  0.        ],\n",
              "          [ 0.        ,  0.        , 14.8262005 , ...,  0.        ,\n",
              "            0.        ,  0.        ],\n",
              "          ...,\n",
              "          [ 0.        ,  0.        , 14.8262005 , ...,  0.        ,\n",
              "            0.        ,  0.        ],\n",
              "          [ 0.        ,  0.        , 17.41685   , ...,  0.        ,\n",
              "            0.        ,  0.        ],\n",
              "          [ 0.        ,  0.        , 10.08805   , ...,  0.        ,\n",
              "            0.        ,  0.        ]],\n",
              " \n",
              "         [[ 0.        ,  0.        ,  0.        , ...,  0.        ,\n",
              "            0.        ,  0.        ],\n",
              "          [ 0.        ,  0.        ,  0.32543582, ...,  0.        ,\n",
              "            0.        ,  0.        ],\n",
              "          [ 0.        ,  0.        ,  8.859298  , ...,  0.        ,\n",
              "            0.        ,  0.        ],\n",
              "          ...,\n",
              "          [ 0.        ,  0.        ,  8.859298  , ...,  0.        ,\n",
              "            0.        ,  0.        ],\n",
              "          [ 0.        ,  0.        , 10.399783  , ...,  0.        ,\n",
              "            0.        ,  0.        ],\n",
              "          [ 0.        ,  0.        ,  5.787792  , ...,  0.        ,\n",
              "            0.        ,  0.        ]],\n",
              " \n",
              "         [[ 0.        ,  0.        ,  3.240657  , ...,  0.        ,\n",
              "            0.        ,  0.        ],\n",
              "          [ 0.        ,  0.        ,  5.550761  , ...,  0.        ,\n",
              "            0.        ,  0.        ],\n",
              "          [ 0.        ,  0.        , 10.215485  , ...,  0.        ,\n",
              "            0.        ,  0.        ],\n",
              "          ...,\n",
              "          [ 0.        ,  0.        , 10.215485  , ...,  0.        ,\n",
              "            0.        ,  0.        ],\n",
              "          [ 0.        ,  0.        , 10.281525  , ...,  0.        ,\n",
              "            0.        ,  0.        ],\n",
              "          [ 0.        ,  0.        ,  5.5649147 , ...,  0.        ,\n",
              "            0.        ,  0.        ]]]], dtype=float32),\n",
              " array([[[[ 0.        ,  0.        ,  0.24237841, ...,  0.        ,\n",
              "            0.        ,  0.        ],\n",
              "          [ 0.        ,  0.        ,  8.221461  , ...,  0.        ,\n",
              "            0.        ,  0.        ],\n",
              "          [ 0.        ,  0.        ,  8.221461  , ...,  0.        ,\n",
              "            0.        ,  0.        ],\n",
              "          ...,\n",
              "          [ 0.        ,  0.        ,  8.221461  , ...,  0.        ,\n",
              "            0.        ,  0.        ],\n",
              "          [ 0.        ,  0.        ,  8.221461  , ...,  0.        ,\n",
              "            0.        ,  0.        ],\n",
              "          [ 0.        ,  0.        , 10.425682  , ...,  0.        ,\n",
              "            0.        ,  0.        ]],\n",
              " \n",
              "         [[ 0.        ,  0.        ,  2.6569293 , ...,  0.        ,\n",
              "            0.        ,  0.        ],\n",
              "          [ 0.        ,  0.        , 14.8262005 , ...,  0.        ,\n",
              "            0.        ,  0.        ],\n",
              "          [ 0.        ,  0.        , 14.8262005 , ...,  0.        ,\n",
              "            0.        ,  0.        ],\n",
              "          ...,\n",
              "          [ 0.        ,  0.        , 14.8262005 , ...,  0.        ,\n",
              "            0.        ,  0.        ],\n",
              "          [ 0.        ,  0.        , 14.8262005 , ...,  0.        ,\n",
              "            0.        ,  0.        ],\n",
              "          [ 0.        ,  0.        , 17.41685   , ...,  0.        ,\n",
              "            0.        ,  0.        ]],\n",
              " \n",
              "         [[ 0.        ,  0.        ,  2.6569293 , ...,  0.        ,\n",
              "            0.        ,  0.        ],\n",
              "          [ 0.        ,  0.        , 14.8262005 , ...,  0.        ,\n",
              "            0.        ,  0.        ],\n",
              "          [ 0.        ,  0.        , 14.8262005 , ...,  0.        ,\n",
              "            0.        ,  0.        ],\n",
              "          ...,\n",
              "          [ 0.        ,  0.        , 14.8262005 , ...,  0.        ,\n",
              "            0.        ,  0.        ],\n",
              "          [ 0.        ,  0.        , 14.8262005 , ...,  0.        ,\n",
              "            0.        ,  0.        ],\n",
              "          [ 0.        ,  0.        , 17.41685   , ...,  0.        ,\n",
              "            0.        ,  0.        ]],\n",
              " \n",
              "         ...,\n",
              " \n",
              "         [[ 0.        ,  0.        ,  2.6569293 , ...,  0.        ,\n",
              "            0.        ,  0.        ],\n",
              "          [ 0.        ,  0.        , 14.8262005 , ...,  0.        ,\n",
              "            0.        ,  0.        ],\n",
              "          [ 0.        ,  0.        , 14.8262005 , ...,  0.        ,\n",
              "            0.        ,  0.        ],\n",
              "          ...,\n",
              "          [ 0.        ,  0.        , 14.8262005 , ...,  0.        ,\n",
              "            0.        ,  0.        ],\n",
              "          [ 0.        ,  0.        , 14.8262005 , ...,  0.        ,\n",
              "            0.        ,  0.        ],\n",
              "          [ 0.        ,  0.        , 17.41685   , ...,  0.        ,\n",
              "            0.        ,  0.        ]],\n",
              " \n",
              "         [[ 0.        ,  0.        ,  2.6569293 , ...,  0.        ,\n",
              "            0.        ,  0.        ],\n",
              "          [ 0.        ,  0.        , 14.8262005 , ...,  0.        ,\n",
              "            0.        ,  0.        ],\n",
              "          [ 0.        ,  0.        , 14.8262005 , ...,  0.        ,\n",
              "            0.        ,  0.        ],\n",
              "          ...,\n",
              "          [ 0.        ,  0.        , 14.8262005 , ...,  0.        ,\n",
              "            0.        ,  0.        ],\n",
              "          [ 0.        ,  0.        , 14.8262005 , ...,  0.        ,\n",
              "            0.        ,  0.        ],\n",
              "          [ 0.        ,  0.        , 17.41685   , ...,  0.        ,\n",
              "            0.        ,  0.        ]],\n",
              " \n",
              "         [[ 0.        ,  0.        ,  5.550761  , ...,  0.        ,\n",
              "            0.        ,  0.        ],\n",
              "          [ 0.        ,  0.        , 10.215485  , ...,  0.        ,\n",
              "            0.        ,  0.        ],\n",
              "          [ 0.        ,  0.        , 10.215485  , ...,  0.        ,\n",
              "            0.        ,  0.        ],\n",
              "          ...,\n",
              "          [ 0.        ,  0.        , 10.215485  , ...,  0.        ,\n",
              "            0.        ,  0.        ],\n",
              "          [ 0.        ,  0.        , 10.215485  , ...,  0.        ,\n",
              "            0.        ,  0.        ],\n",
              "          [ 0.        ,  0.        , 10.399783  , ...,  0.        ,\n",
              "            0.        ,  0.        ]]]], dtype=float32),\n",
              " array([[[[ 0.        ,  0.        ,  0.24237841, ...,  0.        ,\n",
              "            0.        ,  0.        ],\n",
              "          [ 0.        ,  0.        ,  8.221461  , ...,  0.        ,\n",
              "            0.        ,  0.        ],\n",
              "          [ 0.        ,  0.        ,  8.221461  , ...,  0.        ,\n",
              "            0.        ,  0.        ],\n",
              "          ...,\n",
              "          [ 0.        ,  0.        ,  8.221461  , ...,  0.        ,\n",
              "            0.        ,  0.        ],\n",
              "          [ 0.        ,  0.        ,  8.221461  , ...,  0.        ,\n",
              "            0.        ,  0.        ],\n",
              "          [ 0.        ,  0.        , 10.425682  , ...,  0.        ,\n",
              "            0.        ,  0.        ]],\n",
              " \n",
              "         [[ 0.        ,  0.        ,  2.6569293 , ...,  0.        ,\n",
              "            0.        ,  0.        ],\n",
              "          [ 0.        ,  0.        , 14.8262005 , ...,  0.        ,\n",
              "            0.        ,  0.        ],\n",
              "          [ 0.        ,  0.        , 14.8262005 , ...,  0.        ,\n",
              "            0.        ,  0.        ],\n",
              "          ...,\n",
              "          [ 0.        ,  0.        , 14.8262005 , ...,  0.        ,\n",
              "            0.        ,  0.        ],\n",
              "          [ 0.        ,  0.        , 14.8262005 , ...,  0.        ,\n",
              "            0.        ,  0.        ],\n",
              "          [ 0.        ,  0.        , 17.41685   , ...,  0.        ,\n",
              "            0.        ,  0.        ]],\n",
              " \n",
              "         [[ 0.        ,  0.        ,  2.6569293 , ...,  0.        ,\n",
              "            0.        ,  0.        ],\n",
              "          [ 0.        ,  0.        , 14.8262005 , ...,  0.        ,\n",
              "            0.        ,  0.        ],\n",
              "          [ 0.        ,  0.        , 14.8262005 , ...,  0.        ,\n",
              "            0.        ,  0.        ],\n",
              "          ...,\n",
              "          [ 0.        ,  0.        , 14.8262005 , ...,  0.        ,\n",
              "            0.        ,  0.        ],\n",
              "          [ 0.        ,  0.        , 14.8262005 , ...,  0.        ,\n",
              "            0.        ,  0.        ],\n",
              "          [ 0.        ,  0.        , 17.41685   , ...,  0.        ,\n",
              "            0.        ,  0.        ]],\n",
              " \n",
              "         ...,\n",
              " \n",
              "         [[ 0.        ,  0.        ,  2.6569293 , ...,  0.        ,\n",
              "            0.        ,  0.        ],\n",
              "          [ 0.        ,  0.        , 14.8262005 , ...,  0.        ,\n",
              "            0.        ,  0.        ],\n",
              "          [ 0.        ,  0.        , 14.8262005 , ...,  0.        ,\n",
              "            0.        ,  0.        ],\n",
              "          ...,\n",
              "          [ 0.        ,  0.        , 14.8262005 , ...,  0.        ,\n",
              "            0.        ,  0.        ],\n",
              "          [ 0.        ,  0.        , 14.8262005 , ...,  0.        ,\n",
              "            0.        ,  0.        ],\n",
              "          [ 0.        ,  0.        , 17.41685   , ...,  0.        ,\n",
              "            0.        ,  0.        ]],\n",
              " \n",
              "         [[ 0.        ,  0.        ,  2.6569293 , ...,  0.        ,\n",
              "            0.        ,  0.        ],\n",
              "          [ 0.        ,  0.        , 14.8262005 , ...,  0.        ,\n",
              "            0.        ,  0.        ],\n",
              "          [ 0.        ,  0.        , 14.8262005 , ...,  0.        ,\n",
              "            0.        ,  0.        ],\n",
              "          ...,\n",
              "          [ 0.        ,  0.        , 14.8262005 , ...,  0.        ,\n",
              "            0.        ,  0.        ],\n",
              "          [ 0.        ,  0.        , 14.8262005 , ...,  0.        ,\n",
              "            0.        ,  0.        ],\n",
              "          [ 0.        ,  0.        , 17.41685   , ...,  0.        ,\n",
              "            0.        ,  0.        ]],\n",
              " \n",
              "         [[ 0.        ,  0.        ,  5.550761  , ...,  0.        ,\n",
              "            0.        ,  0.        ],\n",
              "          [ 0.        ,  0.        , 10.215485  , ...,  0.        ,\n",
              "            0.        ,  0.        ],\n",
              "          [ 0.        ,  0.        , 10.215485  , ...,  0.        ,\n",
              "            0.        ,  0.        ],\n",
              "          ...,\n",
              "          [ 0.        ,  0.        , 10.215485  , ...,  0.        ,\n",
              "            0.        ,  0.        ],\n",
              "          [ 0.        ,  0.        , 10.215485  , ...,  0.        ,\n",
              "            0.        ,  0.        ],\n",
              "          [ 0.        ,  0.        , 10.399783  , ...,  0.        ,\n",
              "            0.        ,  0.        ]]]], dtype=float32),\n",
              " array([[[[0.0000000e+00, 0.0000000e+00, 6.4751678e+00, ...,\n",
              "           0.0000000e+00, 6.6980848e+00, 0.0000000e+00],\n",
              "          [0.0000000e+00, 0.0000000e+00, 0.0000000e+00, ...,\n",
              "           0.0000000e+00, 2.0849331e+01, 0.0000000e+00],\n",
              "          [0.0000000e+00, 0.0000000e+00, 1.0767479e+01, ...,\n",
              "           0.0000000e+00, 0.0000000e+00, 2.0512983e+01],\n",
              "          ...,\n",
              "          [0.0000000e+00, 0.0000000e+00, 1.0767479e+01, ...,\n",
              "           0.0000000e+00, 0.0000000e+00, 2.0512983e+01],\n",
              "          [0.0000000e+00, 0.0000000e+00, 2.1422305e+00, ...,\n",
              "           6.7965298e+00, 0.0000000e+00, 3.5349434e+01],\n",
              "          [0.0000000e+00, 0.0000000e+00, 3.9941821e+00, ...,\n",
              "           1.3734107e+01, 2.9448557e+00, 1.3186090e+01]],\n",
              " \n",
              "         [[0.0000000e+00, 0.0000000e+00, 0.0000000e+00, ...,\n",
              "           0.0000000e+00, 3.1308255e+00, 0.0000000e+00],\n",
              "          [0.0000000e+00, 0.0000000e+00, 0.0000000e+00, ...,\n",
              "           5.9150863e-01, 2.9733898e+01, 0.0000000e+00],\n",
              "          [0.0000000e+00, 0.0000000e+00, 0.0000000e+00, ...,\n",
              "           8.2149086e+00, 0.0000000e+00, 0.0000000e+00],\n",
              "          ...,\n",
              "          [0.0000000e+00, 0.0000000e+00, 0.0000000e+00, ...,\n",
              "           8.2149086e+00, 0.0000000e+00, 0.0000000e+00],\n",
              "          [0.0000000e+00, 0.0000000e+00, 0.0000000e+00, ...,\n",
              "           1.7941301e+01, 0.0000000e+00, 2.9042931e+01],\n",
              "          [0.0000000e+00, 0.0000000e+00, 0.0000000e+00, ...,\n",
              "           3.0886404e+01, 3.3109522e+00, 0.0000000e+00]],\n",
              " \n",
              "         [[0.0000000e+00, 0.0000000e+00, 0.0000000e+00, ...,\n",
              "           0.0000000e+00, 7.6993036e+00, 0.0000000e+00],\n",
              "          [0.0000000e+00, 0.0000000e+00, 0.0000000e+00, ...,\n",
              "           0.0000000e+00, 3.5342789e+01, 0.0000000e+00],\n",
              "          [0.0000000e+00, 0.0000000e+00, 0.0000000e+00, ...,\n",
              "           5.1227970e+00, 0.0000000e+00, 5.5561395e+00],\n",
              "          ...,\n",
              "          [0.0000000e+00, 0.0000000e+00, 0.0000000e+00, ...,\n",
              "           5.1227970e+00, 0.0000000e+00, 5.5561395e+00],\n",
              "          [0.0000000e+00, 0.0000000e+00, 0.0000000e+00, ...,\n",
              "           1.5193196e+01, 0.0000000e+00, 3.5934235e+01],\n",
              "          [0.0000000e+00, 6.8417788e-03, 0.0000000e+00, ...,\n",
              "           2.6190248e+01, 5.2903605e+00, 0.0000000e+00]],\n",
              " \n",
              "         ...,\n",
              " \n",
              "         [[0.0000000e+00, 0.0000000e+00, 0.0000000e+00, ...,\n",
              "           0.0000000e+00, 7.6993036e+00, 0.0000000e+00],\n",
              "          [0.0000000e+00, 0.0000000e+00, 0.0000000e+00, ...,\n",
              "           0.0000000e+00, 3.5342789e+01, 0.0000000e+00],\n",
              "          [0.0000000e+00, 0.0000000e+00, 0.0000000e+00, ...,\n",
              "           5.1227970e+00, 0.0000000e+00, 5.5561395e+00],\n",
              "          ...,\n",
              "          [0.0000000e+00, 0.0000000e+00, 0.0000000e+00, ...,\n",
              "           5.1227970e+00, 0.0000000e+00, 5.5561395e+00],\n",
              "          [0.0000000e+00, 0.0000000e+00, 0.0000000e+00, ...,\n",
              "           1.5193196e+01, 0.0000000e+00, 3.5934235e+01],\n",
              "          [0.0000000e+00, 6.8417788e-03, 0.0000000e+00, ...,\n",
              "           2.6190248e+01, 5.2903605e+00, 0.0000000e+00]],\n",
              " \n",
              "         [[0.0000000e+00, 0.0000000e+00, 0.0000000e+00, ...,\n",
              "           0.0000000e+00, 0.0000000e+00, 0.0000000e+00],\n",
              "          [0.0000000e+00, 5.3847325e-01, 0.0000000e+00, ...,\n",
              "           3.3297706e-01, 2.4575504e+01, 0.0000000e+00],\n",
              "          [0.0000000e+00, 0.0000000e+00, 0.0000000e+00, ...,\n",
              "           8.6386909e+00, 0.0000000e+00, 2.7101109e+00],\n",
              "          ...,\n",
              "          [0.0000000e+00, 0.0000000e+00, 0.0000000e+00, ...,\n",
              "           8.6386909e+00, 0.0000000e+00, 2.7101109e+00],\n",
              "          [0.0000000e+00, 0.0000000e+00, 0.0000000e+00, ...,\n",
              "           1.8588240e+01, 0.0000000e+00, 3.4269131e+01],\n",
              "          [0.0000000e+00, 4.5316591e+00, 0.0000000e+00, ...,\n",
              "           2.9437069e+01, 0.0000000e+00, 0.0000000e+00]],\n",
              " \n",
              "         [[0.0000000e+00, 0.0000000e+00, 0.0000000e+00, ...,\n",
              "           0.0000000e+00, 0.0000000e+00, 0.0000000e+00],\n",
              "          [0.0000000e+00, 1.0889932e+00, 0.0000000e+00, ...,\n",
              "           0.0000000e+00, 1.3849797e+01, 0.0000000e+00],\n",
              "          [0.0000000e+00, 0.0000000e+00, 0.0000000e+00, ...,\n",
              "           7.6124592e+00, 0.0000000e+00, 0.0000000e+00],\n",
              "          ...,\n",
              "          [0.0000000e+00, 0.0000000e+00, 0.0000000e+00, ...,\n",
              "           7.6124592e+00, 0.0000000e+00, 0.0000000e+00],\n",
              "          [0.0000000e+00, 0.0000000e+00, 0.0000000e+00, ...,\n",
              "           1.1034893e+01, 0.0000000e+00, 8.8108006e+00],\n",
              "          [0.0000000e+00, 7.6731200e+00, 0.0000000e+00, ...,\n",
              "           2.1399687e+01, 1.1479235e+00, 0.0000000e+00]]]], dtype=float32),\n",
              " array([[[[0.0000000e+00, 0.0000000e+00, 6.4751678e+00, ...,\n",
              "           0.0000000e+00, 6.6980848e+00, 0.0000000e+00],\n",
              "          [0.0000000e+00, 0.0000000e+00, 0.0000000e+00, ...,\n",
              "           0.0000000e+00, 2.0849331e+01, 0.0000000e+00],\n",
              "          [0.0000000e+00, 0.0000000e+00, 1.0767479e+01, ...,\n",
              "           0.0000000e+00, 0.0000000e+00, 2.0512983e+01],\n",
              "          ...,\n",
              "          [0.0000000e+00, 0.0000000e+00, 1.0767479e+01, ...,\n",
              "           0.0000000e+00, 0.0000000e+00, 2.0512983e+01],\n",
              "          [0.0000000e+00, 0.0000000e+00, 2.1422305e+00, ...,\n",
              "           6.7965298e+00, 0.0000000e+00, 3.5349434e+01],\n",
              "          [0.0000000e+00, 0.0000000e+00, 3.9941821e+00, ...,\n",
              "           1.3734107e+01, 2.9448557e+00, 1.3186090e+01]],\n",
              " \n",
              "         [[0.0000000e+00, 0.0000000e+00, 0.0000000e+00, ...,\n",
              "           0.0000000e+00, 3.1308255e+00, 0.0000000e+00],\n",
              "          [0.0000000e+00, 0.0000000e+00, 0.0000000e+00, ...,\n",
              "           5.9150863e-01, 2.9733898e+01, 0.0000000e+00],\n",
              "          [0.0000000e+00, 0.0000000e+00, 0.0000000e+00, ...,\n",
              "           8.2149086e+00, 0.0000000e+00, 0.0000000e+00],\n",
              "          ...,\n",
              "          [0.0000000e+00, 0.0000000e+00, 0.0000000e+00, ...,\n",
              "           8.2149086e+00, 0.0000000e+00, 0.0000000e+00],\n",
              "          [0.0000000e+00, 0.0000000e+00, 0.0000000e+00, ...,\n",
              "           1.7941301e+01, 0.0000000e+00, 2.9042931e+01],\n",
              "          [0.0000000e+00, 0.0000000e+00, 0.0000000e+00, ...,\n",
              "           3.0886404e+01, 3.3109522e+00, 0.0000000e+00]],\n",
              " \n",
              "         [[0.0000000e+00, 0.0000000e+00, 0.0000000e+00, ...,\n",
              "           0.0000000e+00, 7.6993036e+00, 0.0000000e+00],\n",
              "          [0.0000000e+00, 0.0000000e+00, 0.0000000e+00, ...,\n",
              "           0.0000000e+00, 3.5342789e+01, 0.0000000e+00],\n",
              "          [0.0000000e+00, 0.0000000e+00, 0.0000000e+00, ...,\n",
              "           5.1227970e+00, 0.0000000e+00, 5.5561395e+00],\n",
              "          ...,\n",
              "          [0.0000000e+00, 0.0000000e+00, 0.0000000e+00, ...,\n",
              "           5.1227970e+00, 0.0000000e+00, 5.5561395e+00],\n",
              "          [0.0000000e+00, 0.0000000e+00, 0.0000000e+00, ...,\n",
              "           1.5193196e+01, 0.0000000e+00, 3.5934235e+01],\n",
              "          [0.0000000e+00, 6.8417788e-03, 0.0000000e+00, ...,\n",
              "           2.6190248e+01, 5.2903605e+00, 0.0000000e+00]],\n",
              " \n",
              "         ...,\n",
              " \n",
              "         [[0.0000000e+00, 0.0000000e+00, 0.0000000e+00, ...,\n",
              "           0.0000000e+00, 7.6993036e+00, 0.0000000e+00],\n",
              "          [0.0000000e+00, 0.0000000e+00, 0.0000000e+00, ...,\n",
              "           0.0000000e+00, 3.5342789e+01, 0.0000000e+00],\n",
              "          [0.0000000e+00, 0.0000000e+00, 0.0000000e+00, ...,\n",
              "           5.1227970e+00, 0.0000000e+00, 5.5561395e+00],\n",
              "          ...,\n",
              "          [0.0000000e+00, 0.0000000e+00, 0.0000000e+00, ...,\n",
              "           5.1227970e+00, 0.0000000e+00, 5.5561395e+00],\n",
              "          [0.0000000e+00, 0.0000000e+00, 0.0000000e+00, ...,\n",
              "           1.5193196e+01, 0.0000000e+00, 3.5934235e+01],\n",
              "          [0.0000000e+00, 6.8417788e-03, 0.0000000e+00, ...,\n",
              "           2.6190248e+01, 5.2903605e+00, 0.0000000e+00]],\n",
              " \n",
              "         [[0.0000000e+00, 0.0000000e+00, 0.0000000e+00, ...,\n",
              "           0.0000000e+00, 0.0000000e+00, 0.0000000e+00],\n",
              "          [0.0000000e+00, 5.3847325e-01, 0.0000000e+00, ...,\n",
              "           3.3297706e-01, 2.4575504e+01, 0.0000000e+00],\n",
              "          [0.0000000e+00, 0.0000000e+00, 0.0000000e+00, ...,\n",
              "           8.6386909e+00, 0.0000000e+00, 2.7101109e+00],\n",
              "          ...,\n",
              "          [0.0000000e+00, 0.0000000e+00, 0.0000000e+00, ...,\n",
              "           8.6386909e+00, 0.0000000e+00, 2.7101109e+00],\n",
              "          [0.0000000e+00, 0.0000000e+00, 0.0000000e+00, ...,\n",
              "           1.8588240e+01, 0.0000000e+00, 3.4269131e+01],\n",
              "          [0.0000000e+00, 4.5316591e+00, 0.0000000e+00, ...,\n",
              "           2.9437069e+01, 0.0000000e+00, 0.0000000e+00]],\n",
              " \n",
              "         [[0.0000000e+00, 0.0000000e+00, 0.0000000e+00, ...,\n",
              "           0.0000000e+00, 0.0000000e+00, 0.0000000e+00],\n",
              "          [0.0000000e+00, 1.0889932e+00, 0.0000000e+00, ...,\n",
              "           0.0000000e+00, 1.3849797e+01, 0.0000000e+00],\n",
              "          [0.0000000e+00, 0.0000000e+00, 0.0000000e+00, ...,\n",
              "           7.6124592e+00, 0.0000000e+00, 0.0000000e+00],\n",
              "          ...,\n",
              "          [0.0000000e+00, 0.0000000e+00, 0.0000000e+00, ...,\n",
              "           7.6124592e+00, 0.0000000e+00, 0.0000000e+00],\n",
              "          [0.0000000e+00, 0.0000000e+00, 0.0000000e+00, ...,\n",
              "           1.1034893e+01, 0.0000000e+00, 8.8108006e+00],\n",
              "          [0.0000000e+00, 7.6731200e+00, 0.0000000e+00, ...,\n",
              "           2.1399687e+01, 1.1479235e+00, 0.0000000e+00]]]], dtype=float32)]"
            ]
          },
          "metadata": {
            "tags": []
          },
          "execution_count": 109
        }
      ]
    },
    {
      "cell_type": "code",
      "metadata": {
        "id": "t3pJhlM-944l",
        "colab_type": "code",
        "colab": {
          "base_uri": "https://localhost:8080/",
          "height": 34
        },
        "outputId": "ff452657-6f1e-4fea-fbb8-75dd9181aaae"
      },
      "source": [
        "last_layer_activation_final = activations_final[8]\n",
        "print(last_layer_activation_final.shape)"
      ],
      "execution_count": null,
      "outputs": [
        {
          "output_type": "stream",
          "text": [
            "(1, 7, 7, 32)\n"
          ],
          "name": "stdout"
        }
      ]
    },
    {
      "cell_type": "markdown",
      "metadata": {
        "id": "BBlywqhwuEN0",
        "colab_type": "text"
      },
      "source": [
        "Activation layer of ablated image"
      ]
    },
    {
      "cell_type": "code",
      "metadata": {
        "id": "MwI0snKQ-PVE",
        "colab_type": "code",
        "colab": {
          "base_uri": "https://localhost:8080/",
          "height": 282
        },
        "outputId": "dea19b9c-79c9-49cd-a3f6-44bbbe177715"
      },
      "source": [
        "heatmap_final = np.mean(last_layer_activation_final, axis=-1)\n",
        "heatmap_final = np.maximum(heatmap_final, 0) / np.max(heatmap_final)\n",
        "plt.imshow(heatmap_final[0])"
      ],
      "execution_count": null,
      "outputs": [
        {
          "output_type": "execute_result",
          "data": {
            "text/plain": [
              "<matplotlib.image.AxesImage at 0x7f31cc5a0630>"
            ]
          },
          "metadata": {
            "tags": []
          },
          "execution_count": 111
        },
        {
          "output_type": "display_data",
          "data": {
            "image/png": "[encoded data removed]",
            "text/plain": [
              "<Figure size 432x288 with 1 Axes>"
            ]
          },
          "metadata": {
            "tags": [],
            "needs_background": "light"
          }
        }
      ]
    },
    {
      "cell_type": "code",
      "metadata": {
        "id": "snlK3kBy-eEy",
        "colab_type": "code",
        "colab": {
          "base_uri": "https://localhost:8080/",
          "height": 34
        },
        "outputId": "cb8da007-473d-4e85-88d1-abf2752b57ba"
      },
      "source": [
        "print(last_layer_activation.shape,last_layer_activation_final.shape)"
      ],
      "execution_count": null,
      "outputs": [
        {
          "output_type": "stream",
          "text": [
            "(1, 7, 7, 32) (1, 7, 7, 32)\n"
          ],
          "name": "stdout"
        }
      ]
    },
    {
      "cell_type": "markdown",
      "metadata": {
        "id": "tn-1UTvmuKze",
        "colab_type": "text"
      },
      "source": [
        "Calculating Weight ratio according to research paper"
      ]
    },
    {
      "cell_type": "code",
      "metadata": {
        "id": "Bxm9HCLW-1A7",
        "colab_type": "code",
        "colab": {}
      },
      "source": [
        "weights_ratio=(last_layer_activation-last_layer_activation_final)/last_layer_activation"
      ],
      "execution_count": null,
      "outputs": []
    },
    {
      "cell_type": "code",
      "metadata": {
        "id": "Pfo-sagM_Bfj",
        "colab_type": "code",
        "colab": {
          "base_uri": "https://localhost:8080/",
          "height": 1000
        },
        "outputId": "7dbb1884-0a58-41b1-874c-bdc86183a67a"
      },
      "source": [
        "weights_ratio"
      ],
      "execution_count": null,
      "outputs": [
        {
          "output_type": "execute_result",
          "data": {
            "text/plain": [
              "array([[[[ 1.0000000e+00,  1.0000000e+00,  9.6319979e-01, ...,\n",
              "           1.0000000e+00, -6.6980848e+07,  1.0000000e+00],\n",
              "         [ 1.0000000e+00,  1.0000000e+00,  1.0000000e+00, ...,\n",
              "           1.0000000e+00, -2.0849331e+08,  1.0000000e+00],\n",
              "         [ 1.0000000e+00,  1.0000000e+00,  9.2207551e-01, ...,\n",
              "           1.0000000e+00,  1.0000000e+00,  6.9128484e-01],\n",
              "         ...,\n",
              "         [ 1.0000000e+00,  1.0000000e+00,  9.2033899e-01, ...,\n",
              "           1.0000000e+00,  1.0000000e+00,  6.6197872e-01],\n",
              "         [ 1.0000000e+00,  1.0000000e+00,  9.8700333e-01, ...,\n",
              "          -6.7965296e+07,  1.0000000e+00,  2.6212990e-01],\n",
              "         [ 1.0000000e+00,  1.0000000e+00,  9.6067566e-01, ...,\n",
              "          -6.6434085e-01, -2.9448556e+07,  5.8487695e-01]],\n",
              "\n",
              "        [[ 1.0000000e+00,  1.0000000e+00,  1.0000000e+00, ...,\n",
              "           1.0000000e+00, -3.1308254e+07,  1.0000000e+00],\n",
              "         [ 1.0000000e+00,  1.0000000e+00,  1.0000000e+00, ...,\n",
              "           9.8904055e-01, -2.9733898e+08,  1.0000000e+00],\n",
              "         [ 1.0000000e+00,  1.0000000e+00,  1.0000000e+00, ...,\n",
              "           8.8302720e-01,  1.0000000e+00,  1.0000000e+00],\n",
              "         ...,\n",
              "         [ 1.0000000e+00,  1.0000000e+00,  1.0000000e+00, ...,\n",
              "           9.2219579e-01,  1.0000000e+00,  1.0000000e+00],\n",
              "         [ 1.0000000e+00,  1.0000000e+00,  1.0000000e+00, ...,\n",
              "           8.5362285e-01,  1.0000000e+00, -2.9042931e+08],\n",
              "         [ 1.0000000e+00,  1.0000000e+00,  1.0000000e+00, ...,\n",
              "           8.2657009e-01, -3.3109522e+07,  1.0000000e+00]],\n",
              "\n",
              "        [[ 1.0000000e+00,  1.0000000e+00,  1.0000000e+00, ...,\n",
              "           1.0000000e+00, -7.6993032e+07,  1.0000000e+00],\n",
              "         [ 1.0000000e+00,  1.0000000e+00,  1.0000000e+00, ...,\n",
              "           1.0000000e+00, -3.5342787e+08,  1.0000000e+00],\n",
              "         [ 1.0000000e+00,  1.0000000e+00,  1.0000000e+00, ...,\n",
              "           9.5999277e-01,  1.0000000e+00, -5.5561396e+07],\n",
              "         ...,\n",
              "         [ 1.0000000e+00,  1.0000000e+00,  1.0000000e+00, ...,\n",
              "           9.7362298e-01,  1.0000000e+00, -5.5561396e+07],\n",
              "         [ 1.0000000e+00,  1.0000000e+00,  1.0000000e+00, ...,\n",
              "           9.4261682e-01,  1.0000000e+00, -3.5934234e+08],\n",
              "         [ 1.0000000e+00,  9.9926454e-01,  1.0000000e+00, ...,\n",
              "           8.7914205e-01,  9.4394070e-01,  1.0000000e+00]],\n",
              "\n",
              "        ...,\n",
              "\n",
              "        [[ 1.0000000e+00,  1.0000000e+00,  1.0000000e+00, ...,\n",
              "           1.0000000e+00, -7.6993032e+07,  1.0000000e+00],\n",
              "         [ 1.0000000e+00,  1.0000000e+00,  1.0000000e+00, ...,\n",
              "           1.0000000e+00, -3.5342787e+08,  1.0000000e+00],\n",
              "         [ 1.0000000e+00,  1.0000000e+00,  1.0000000e+00, ...,\n",
              "           9.5292985e-01,  1.0000000e+00,  9.3546426e-01],\n",
              "         ...,\n",
              "         [ 1.0000000e+00,  1.0000000e+00,  1.0000000e+00, ...,\n",
              "           9.2698306e-01,  1.0000000e+00, -5.5561396e+07],\n",
              "         [ 1.0000000e+00,  1.0000000e+00,  1.0000000e+00, ...,\n",
              "          -1.5193197e+08,  1.0000000e+00, -7.2877860e+00],\n",
              "         [ 1.0000000e+00, -6.8416789e+04,  1.0000000e+00, ...,\n",
              "          -4.0635738e+00,  8.7295943e-01,  1.0000000e+00]],\n",
              "\n",
              "        [[ 1.0000000e+00,  1.0000000e+00,  1.0000000e+00, ...,\n",
              "           1.0000000e+00,  1.0000000e+00,  1.0000000e+00],\n",
              "         [ 1.0000000e+00, -5.3847310e+06,  1.0000000e+00, ...,\n",
              "           9.8340034e-01, -2.4575504e+08,  1.0000000e+00],\n",
              "         [ 1.0000000e+00,  1.0000000e+00,  1.0000000e+00, ...,\n",
              "           7.9060715e-01,  1.0000000e+00,  5.8820999e-01],\n",
              "         ...,\n",
              "         [ 1.0000000e+00,  1.0000000e+00,  1.0000000e+00, ...,\n",
              "           8.6404711e-01,  1.0000000e+00, -2.7101108e+07],\n",
              "         [ 1.0000000e+00,  1.0000000e+00,  1.0000000e+00, ...,\n",
              "           6.8907356e-01,  1.0000000e+00, -3.4269130e+08],\n",
              "         [ 1.0000000e+00, -4.5316592e+07,  1.0000000e+00, ...,\n",
              "           7.4715769e-01,  1.0000000e+00,  1.0000000e+00]],\n",
              "\n",
              "        [[ 1.0000000e+00,  1.0000000e+00,  1.0000000e+00, ...,\n",
              "           1.0000000e+00,  1.0000000e+00,  1.0000000e+00],\n",
              "         [ 1.0000000e+00,  7.5318021e-01,  1.0000000e+00, ...,\n",
              "           1.0000000e+00, -1.3893886e-01,  1.0000000e+00],\n",
              "         [ 1.0000000e+00,  1.0000000e+00,  1.0000000e+00, ...,\n",
              "           9.1509575e-01,  1.0000000e+00,  1.0000000e+00],\n",
              "         ...,\n",
              "         [ 1.0000000e+00,  1.0000000e+00,  1.0000000e+00, ...,\n",
              "           9.2277980e-01,  1.0000000e+00,  1.0000000e+00],\n",
              "         [ 1.0000000e+00,  1.0000000e+00,  1.0000000e+00, ...,\n",
              "           8.5632604e-01,  1.0000000e+00, -8.8108008e+07],\n",
              "         [ 1.0000000e+00, -7.6731200e+07,  1.0000000e+00, ...,\n",
              "           7.6640451e-01,  9.1831166e-01,  1.0000000e+00]]]],\n",
              "      dtype=float32)"
            ]
          },
          "metadata": {
            "tags": []
          },
          "execution_count": 114
        }
      ]
    },
    {
      "cell_type": "code",
      "metadata": {
        "id": "1Wsx5z-s_GOo",
        "colab_type": "code",
        "colab": {}
      },
      "source": [
        "# Multipling the weight ratio with final activation layer\n",
        "for i in range(len(last_layer_activation[0])):\n",
        "  for j in range(len(last_layer_activation[0][i])):\n",
        "    last_layer_activation[0][i][j]=(last_layer_activation[0][i][j]*weights_ratio[0][i][j])"
      ],
      "execution_count": null,
      "outputs": []
    },
    {
      "cell_type": "markdown",
      "metadata": {
        "id": "RhaSmhTcurbp",
        "colab_type": "text"
      },
      "source": [
        "Applying RELU to the Final activation layer ( product of weight ratio and activation layer)"
      ]
    },
    {
      "cell_type": "code",
      "metadata": {
        "id": "wdMWZrEed3hE",
        "colab_type": "code",
        "colab": {
          "base_uri": "https://localhost:8080/",
          "height": 1000
        },
        "outputId": "56b2bc50-2036-40a7-f2f3-15b50fc6308a"
      },
      "source": [
        "for i in range(len(last_layer_activation[0])):\n",
        "  for j in range(len(last_layer_activation[0][i])):\n",
        "    for k in range(len(last_layer_activation[0][i][j])):\n",
        "      if last_layer_activation[0][i][j][k]<0.:\n",
        "        last_layer_activation[0][i][j][k]=0.\n",
        "last_layer_activation"
      ],
      "execution_count": null,
      "outputs": [
        {
          "output_type": "execute_result",
          "data": {
            "text/plain": [
              "array([[[[1.00000001e-07, 1.00000001e-07, 1.69479782e+02, ...,\n",
              "          1.00000001e-07, 0.00000000e+00, 1.00000001e-07],\n",
              "         [3.33854027e+01, 1.00000001e-07, 8.10349197e+01, ...,\n",
              "          1.00000001e-07, 0.00000000e+00, 1.00000001e-07],\n",
              "         [1.00000001e-07, 1.00000001e-07, 1.27410866e+02, ...,\n",
              "          1.00000001e-07, 1.00000001e-07, 4.59333344e+01],\n",
              "         ...,\n",
              "         [1.00000001e-07, 1.00000001e-07, 1.24398735e+02, ...,\n",
              "          1.00000001e-07, 1.00000001e-07, 4.01725006e+01],\n",
              "         [1.00000001e-07, 1.00000001e-07, 1.62686279e+02, ...,\n",
              "          0.00000000e+00, 1.00000001e-07, 1.25579605e+01],\n",
              "         [7.12294769e+01, 1.00000001e-07, 9.75759201e+01, ...,\n",
              "          0.00000000e+00, 0.00000000e+00, 1.85782051e+01]],\n",
              "\n",
              "        [[1.00000001e-07, 1.00000001e-07, 3.29737806e+00, ...,\n",
              "          1.00000001e-07, 0.00000000e+00, 1.00000001e-07],\n",
              "         [4.34948578e+01, 1.00000001e-07, 1.00000001e-07, ...,\n",
              "          5.33808022e+01, 0.00000000e+00, 1.00000001e-07],\n",
              "         [1.00000001e-07, 1.00000001e-07, 1.00000001e-07, ...,\n",
              "          6.20143089e+01, 1.00000001e-07, 1.00000001e-07],\n",
              "         ...,\n",
              "         [1.80344334e+01, 1.00000001e-07, 1.00000001e-07, ...,\n",
              "          9.73693848e+01, 1.00000001e-07, 1.00000001e-07],\n",
              "         [8.79123077e+01, 1.00000001e-07, 1.00000001e-07, ...,\n",
              "          1.04627686e+02, 1.00000001e-07, 0.00000000e+00],\n",
              "         [1.39820877e+02, 1.00000001e-07, 1.00000001e-07, ...,\n",
              "          1.47205124e+02, 0.00000000e+00, 1.00000001e-07]],\n",
              "\n",
              "        [[1.00000001e-07, 1.00000001e-07, 1.00000001e-07, ...,\n",
              "          1.00000001e-07, 0.00000000e+00, 1.00000001e-07],\n",
              "         [7.64217758e+01, 4.78997726e+01, 1.00000001e-07, ...,\n",
              "          1.03679497e+02, 0.00000000e+00, 1.00000001e-07],\n",
              "         [1.00000001e-07, 1.00000001e-07, 1.00000001e-07, ...,\n",
              "          1.22923973e+02, 1.00000001e-07, 0.00000000e+00],\n",
              "         ...,\n",
              "         [8.05195618e+01, 1.00000001e-07, 1.00000001e-07, ...,\n",
              "          1.89091919e+02, 1.00000001e-07, 0.00000000e+00],\n",
              "         [3.10696640e+01, 1.00000001e-07, 1.00000001e-07, ...,\n",
              "          2.49574051e+02, 1.00000001e-07, 0.00000000e+00],\n",
              "         [1.00000001e-07, 9.29534149e+00, 1.00000001e-07, ...,\n",
              "          1.90512451e+02, 8.90803909e+01, 1.00000001e-07]],\n",
              "\n",
              "        ...,\n",
              "\n",
              "        [[1.00000001e-07, 1.00000001e-07, 1.00000001e-07, ...,\n",
              "          1.00000001e-07, 0.00000000e+00, 1.00000001e-07],\n",
              "         [1.00000001e-07, 1.00000001e-07, 5.70694351e+01, ...,\n",
              "          3.07987652e+01, 0.00000000e+00, 1.00000001e-07],\n",
              "         [1.00000001e-07, 1.00000001e-07, 1.00000001e-07, ...,\n",
              "          1.03710350e+02, 1.00000001e-07, 8.05378036e+01],\n",
              "         ...,\n",
              "         [1.00000001e-07, 1.00000001e-07, 1.23758919e+02, ...,\n",
              "          6.50361710e+01, 1.00000001e-07, 0.00000000e+00],\n",
              "         [1.00000001e-07, 1.00000001e-07, 7.30307541e+01, ...,\n",
              "          0.00000000e+00, 1.00000001e-07, 0.00000000e+00],\n",
              "         [1.00000001e-07, 0.00000000e+00, 1.00231628e+02, ...,\n",
              "          0.00000000e+00, 3.63527145e+01, 1.00000001e-07]],\n",
              "\n",
              "        [[1.00000001e-07, 1.00000001e-07, 1.00000001e-07, ...,\n",
              "          1.00000001e-07, 1.00000001e-07, 1.00000001e-07],\n",
              "         [1.00000001e-07, 0.00000000e+00, 1.31350739e+02, ...,\n",
              "          1.97262936e+01, 0.00000000e+00, 1.00000001e-07],\n",
              "         [1.00000001e-07, 1.00000001e-07, 5.41011848e+01, ...,\n",
              "          3.26172180e+01, 1.00000001e-07, 3.87118268e+00],\n",
              "         ...,\n",
              "         [1.00000001e-07, 1.00000001e-07, 3.65446167e+01, ...,\n",
              "          5.49030991e+01, 1.00000001e-07, 0.00000000e+00],\n",
              "         [1.00000001e-07, 1.00000001e-07, 1.00000001e-07, ...,\n",
              "          4.11951599e+01, 1.00000001e-07, 0.00000000e+00],\n",
              "         [2.96648235e+01, 0.00000000e+00, 1.00000001e-07, ...,\n",
              "          8.69875488e+01, 1.00000001e-07, 1.00000001e-07]],\n",
              "\n",
              "        [[1.00000001e-07, 1.00000001e-07, 1.00000001e-07, ...,\n",
              "          1.00000001e-07, 1.00000001e-07, 1.00000001e-07],\n",
              "         [1.00000001e-07, 3.32310486e+00, 1.00000001e-07, ...,\n",
              "          1.56372852e+01, 0.00000000e+00, 1.00000001e-07],\n",
              "         [1.00000001e-07, 1.00000001e-07, 1.00000001e-07, ...,\n",
              "          8.20468750e+01, 6.26025200e+00, 1.00000001e-07],\n",
              "         ...,\n",
              "         [1.03425512e+01, 1.00000001e-07, 1.00000001e-07, ...,\n",
              "          9.09687424e+01, 1.00000001e-07, 1.00000001e-07],\n",
              "         [2.54845257e+01, 1.00000001e-07, 1.00000001e-07, ...,\n",
              "          6.57701874e+01, 1.90530224e+01, 0.00000000e+00],\n",
              "         [1.68736591e+01, 0.00000000e+00, 1.00000001e-07, ...,\n",
              "          7.02103348e+01, 1.29045486e+01, 1.00000001e-07]]]],\n",
              "      dtype=float32)"
            ]
          },
          "metadata": {
            "tags": []
          },
          "execution_count": 116
        }
      ]
    },
    {
      "cell_type": "markdown",
      "metadata": {
        "id": "I9iMx0c4u9N8",
        "colab_type": "text"
      },
      "source": [
        "Heatmap of final activation layer"
      ]
    },
    {
      "cell_type": "code",
      "metadata": {
        "id": "uOvn9ytyeVxM",
        "colab_type": "code",
        "colab": {
          "base_uri": "https://localhost:8080/",
          "height": 265
        },
        "outputId": "862cefde-8955-46d5-c39d-d5f3f4c79054"
      },
      "source": [
        "heatmap = np.mean(last_layer_activation, axis=-1)\n",
        "heatmap = np.maximum(heatmap, 0) / np.max(heatmap)\n",
        "plt.imshow(heatmap[0])\n",
        "plt.savefig(\"heatmap.jpg\")\n",
        "heatmap=heatmap[0,:,:,]"
      ],
      "execution_count": null,
      "outputs": [
        {
          "output_type": "display_data",
          "data": {
            "image/png": "[encoded data removed]",
            "text/plain": [
              "<Figure size 432x288 with 1 Axes>"
            ]
          },
          "metadata": {
            "tags": [],
            "needs_background": "light"
          }
        }
      ]
    },
    {
      "cell_type": "markdown",
      "metadata": {
        "id": "S-t35-jfvBcg",
        "colab_type": "text"
      },
      "source": [
        "# Super imposed image of original and heatmap"
      ]
    },
    {
      "cell_type": "code",
      "metadata": {
        "id": "f1Z_rXQThPBQ",
        "colab_type": "code",
        "colab": {
          "base_uri": "https://localhost:8080/",
          "height": 972
        },
        "outputId": "190663bc-3e13-4f6d-bc39-b7032bd9e550"
      },
      "source": [
        "img = keras.preprocessing.image.load_img('a.jpg')\n",
        "img = keras.preprocessing.image.img_to_array(img)\n",
        "heatmap = np.uint8(255 * heatmap)\n",
        "jet = cm.get_cmap(\"jet\")\n",
        "jet_colors = jet(np.arange(256))[:, :3]\n",
        "jet_heatmap = jet_colors[heatmap]\n",
        "jet_heatmap = keras.preprocessing.image.array_to_img(jet_heatmap)\n",
        "jet_heatmap = jet_heatmap.resize((img.shape[1], img.shape[0]))\n",
        "jet_heatmap = keras.preprocessing.image.img_to_array(jet_heatmap)\n",
        "superimposed_img = jet_heatmap * 0.7 + img\n",
        "superimposed_img = keras.preprocessing.image.array_to_img(superimposed_img)\n",
        "save_path = \"final_image_aeroplane.jpg\"\n",
        "superimposed_img.save(save_path)\n",
        "display(Image(save_path))\n"
      ],
      "execution_count": null,
      "outputs": [
        {
          "output_type": "display_data",
          "data": {
            "image/jpeg": "[encoded data removed]",
            "text/plain": [
              "<IPython.core.display.Image object>"
            ]
          },
          "metadata": {
            "tags": []
          }
        }
      ]
    },
    {
      "cell_type": "markdown",
      "metadata": {
        "id": "ApobD7WHvIbP",
        "colab_type": "text"
      },
      "source": [
        "This shows that the conv layer mainly focuses on the wings and the turbine of aeroplane for its classification"
      ]
    },
    {
      "cell_type": "code",
      "metadata": {
        "id": "odsS4jAaT75H",
        "colab_type": "code",
        "colab": {
          "base_uri": "https://localhost:8080/",
          "height": 1000
        },
        "outputId": "3c847e06-192c-4bde-8b8c-0893c0db3829"
      },
      "source": [
        "img = keras.preprocessing.image.load_img('b.jpg',target_size=(32,32,3))\n",
        "img = keras.preprocessing.image.img_to_array(img)\n",
        "array=keras.preprocessing.image.img_to_array(img)\n",
        "array=np.expand_dims(array,axis=0)\n",
        "img_tensor = array\n",
        "img_tensor /= 255.\n",
        "plt.imshow(img_tensor[0])\n",
        "plt.show()\n",
        "print(img_tensor.shape)\n",
        "\n",
        "model.predict(img_tensor)\n",
        "\n",
        "activations = activation_model.predict(img_tensor) \n",
        "last_layer_activation = activations[8]\n",
        "print(last_layer_activation.shape)\n",
        "\n",
        "heatmap = np.mean(last_layer_activation, axis=-1)\n",
        "heatmap = np.maximum(heatmap, 0) / np.max(heatmap)\n",
        "plt.imshow(heatmap[0])\n",
        "heatmap=heatmap[0,:,:,]\n",
        "\n",
        "eps = K.epsilon()\n",
        "for i in range(len(last_layer_activation[0])):\n",
        "  for j in range(len(last_layer_activation[0][i])):\n",
        "    for k in range(len(last_layer_activation[0][i][j])):\n",
        "      if last_layer_activation[0][i][j][k]==0.:\n",
        "        last_layer_activation[0][i][j][k]=eps\n",
        "\n",
        "image_final=np.zeros_like(img_tensor)\n",
        "activations_final = activation_model.predict(image_final) \n",
        "\n",
        "last_layer_activation_final = activations_final[8]\n",
        "\n",
        "heatmap_final = np.mean(last_layer_activation_final, axis=-1)\n",
        "heatmap_final = np.maximum(heatmap_final, 0) / np.max(heatmap_final)\n",
        "plt.imshow(heatmap_final[0])\n",
        "\n",
        "weights_ratio=(last_layer_activation-last_layer_activation_final)/last_layer_activation\n",
        "\n",
        "for i in range(len(last_layer_activation[0])):\n",
        "  for j in range(len(last_layer_activation[0][i])):\n",
        "    last_layer_activation[0][i][j]=(last_layer_activation[0][i][j]*weights_ratio[0][i][j])\n",
        "\n",
        "for i in range(len(last_layer_activation[0])):\n",
        "  for j in range(len(last_layer_activation[0][i])):\n",
        "    for k in range(len(last_layer_activation[0][i][j])):\n",
        "      if last_layer_activation[0][i][j][k]<0.:\n",
        "        last_layer_activation[0][i][j][k]=0.\n",
        "\n",
        "heatmap = np.mean(last_layer_activation, axis=-1)\n",
        "heatmap = np.maximum(heatmap, 0) / np.max(heatmap)\n",
        "plt.imshow(heatmap[0])\n",
        "plt.savefig(\"heatmap_dog.jpg\")\n",
        "heatmap=heatmap[0,:,:,]\n",
        "\n",
        "img = keras.preprocessing.image.load_img('b.jpg')\n",
        "img = keras.preprocessing.image.img_to_array(img)\n",
        "heatmap = np.uint8(255 * heatmap)\n",
        "jet = cm.get_cmap(\"jet\")\n",
        "jet_colors = jet(np.arange(256))[:, :3]\n",
        "jet_heatmap = jet_colors[heatmap]\n",
        "jet_heatmap = keras.preprocessing.image.array_to_img(jet_heatmap)\n",
        "jet_heatmap = jet_heatmap.resize((img.shape[1], img.shape[0]))\n",
        "jet_heatmap = keras.preprocessing.image.img_to_array(jet_heatmap)\n",
        "superimposed_img = jet_heatmap * 0.7 + img\n",
        "superimposed_img = keras.preprocessing.image.array_to_img(superimposed_img)\n",
        "save_path = \"final_image_dog.jpg\"\n",
        "superimposed_img.save(save_path)\n",
        "display(Image(save_path))\n"
      ],
      "execution_count": null,
      "outputs": [
        {
          "output_type": "display_data",
          "data": {
            "image/png": "[encoded data removed]",
            "text/plain": [
              "<Figure size 432x288 with 1 Axes>"
            ]
          },
          "metadata": {
            "tags": [],
            "needs_background": "light"
          }
        },
        {
          "output_type": "stream",
          "text": [
            "(1, 32, 32, 3)\n",
            "(1, 7, 7, 32)\n"
          ],
          "name": "stdout"
        },
        {
          "output_type": "display_data",
          "data": {
            "image/jpeg": "[encoded data removed]",
            "text/plain": [
              "<IPython.core.display.Image object>"
            ]
          },
          "metadata": {
            "tags": []
          }
        },
        {
          "output_type": "display_data",
          "data": {
            "image/png": "[encoded data removed]",
            "text/plain": [
              "<Figure size 432x288 with 1 Axes>"
            ]
          },
          "metadata": {
            "tags": [],
            "needs_background": "light"
          }
        }
      ]
    },
    {
      "cell_type": "code",
      "metadata": {
        "id": "CtKAnA0uW-Sx",
        "colab_type": "code",
        "colab": {
          "base_uri": "https://localhost:8080/",
          "height": 718
        },
        "outputId": "7b6bc538-d9df-4cd9-ab7c-8fef7a2f3bdb"
      },
      "source": [
        "img = keras.preprocessing.image.load_img('c.jpeg',target_size=(32,32,3))\n",
        "img = keras.preprocessing.image.img_to_array(img)\n",
        "array=keras.preprocessing.image.img_to_array(img)\n",
        "array=np.expand_dims(array,axis=0)\n",
        "img_tensor = array\n",
        "img_tensor /= 255.\n",
        "plt.imshow(img_tensor[0])\n",
        "plt.show()\n",
        "print(img_tensor.shape)\n",
        "\n",
        "model.predict(img_tensor)\n",
        "\n",
        "activations = activation_model.predict(img_tensor) \n",
        "last_layer_activation = activations[8]\n",
        "print(last_layer_activation.shape)\n",
        "\n",
        "heatmap = np.mean(last_layer_activation, axis=-1)\n",
        "heatmap = np.maximum(heatmap, 0) / np.max(heatmap)\n",
        "plt.imshow(heatmap[0])\n",
        "heatmap=heatmap[0,:,:,]\n",
        "\n",
        "eps = K.epsilon()\n",
        "for i in range(len(last_layer_activation[0])):\n",
        "  for j in range(len(last_layer_activation[0][i])):\n",
        "    for k in range(len(last_layer_activation[0][i][j])):\n",
        "      if last_layer_activation[0][i][j][k]==0.:\n",
        "        last_layer_activation[0][i][j][k]=eps\n",
        "\n",
        "image_final=np.zeros_like(img_tensor)\n",
        "activations_final = activation_model.predict(image_final) \n",
        "\n",
        "last_layer_activation_final = activations_final[8]\n",
        "\n",
        "heatmap_final = np.mean(last_layer_activation_final, axis=-1)\n",
        "heatmap_final = np.maximum(heatmap_final, 0) / np.max(heatmap_final)\n",
        "plt.imshow(heatmap_final[0])\n",
        "\n",
        "weights_ratio=(last_layer_activation-last_layer_activation_final)/last_layer_activation\n",
        "\n",
        "for i in range(len(last_layer_activation[0])):\n",
        "  for j in range(len(last_layer_activation[0][i])):\n",
        "    last_layer_activation[0][i][j]=(last_layer_activation[0][i][j]*weights_ratio[0][i][j])\n",
        "\n",
        "for i in range(len(last_layer_activation[0])):\n",
        "  for j in range(len(last_layer_activation[0][i])):\n",
        "    for k in range(len(last_layer_activation[0][i][j])):\n",
        "      if last_layer_activation[0][i][j][k]<0.:\n",
        "        last_layer_activation[0][i][j][k]=0.\n",
        "\n",
        "heatmap = np.mean(last_layer_activation, axis=-1)\n",
        "heatmap = np.maximum(heatmap, 0) / np.max(heatmap)\n",
        "plt.imshow(heatmap[0])\n",
        "plt.savefig(\"heatmap_car.jpg\")\n",
        "heatmap=heatmap[0,:,:,]\n",
        "\n",
        "img = keras.preprocessing.image.load_img('c.jpeg')\n",
        "img = keras.preprocessing.image.img_to_array(img)\n",
        "heatmap = np.uint8(255 * heatmap)\n",
        "jet = cm.get_cmap(\"jet\")\n",
        "jet_colors = jet(np.arange(256))[:, :3]\n",
        "jet_heatmap = jet_colors[heatmap]\n",
        "jet_heatmap = keras.preprocessing.image.array_to_img(jet_heatmap)\n",
        "jet_heatmap = jet_heatmap.resize((img.shape[1], img.shape[0]))\n",
        "jet_heatmap = keras.preprocessing.image.img_to_array(jet_heatmap)\n",
        "superimposed_img = jet_heatmap * 0.7 + img\n",
        "superimposed_img = keras.preprocessing.image.array_to_img(superimposed_img)\n",
        "save_path = \"final_image_car.jpg\"\n",
        "superimposed_img.save(save_path)\n",
        "display(Image(save_path))\n"
      ],
      "execution_count": null,
      "outputs": [
        {
          "output_type": "display_data",
          "data": {
            "image/png": "[encoded data removed]",
            "text/plain": [
              "<Figure size 432x288 with 1 Axes>"
            ]
          },
          "metadata": {
            "tags": [],
            "needs_background": "light"
          }
        },
        {
          "output_type": "stream",
          "text": [
            "(1, 32, 32, 3)\n",
            "(1, 7, 7, 32)\n"
          ],
          "name": "stdout"
        },
        {
          "output_type": "display_data",
          "data": {
            "image/jpeg": "[encoded data removed]",
            "text/plain": [
              "<IPython.core.display.Image object>"
            ]
          },
          "metadata": {
            "tags": []
          }
        },
        {
          "output_type": "display_data",
          "data": {
            "image/png": "[encoded data removed]",
            "text/plain": [
              "<Figure size 432x288 with 1 Axes>"
            ]
          },
          "metadata": {
            "tags": [],
            "needs_background": "light"
          }
        }
      ]
    },
    {
      "cell_type": "code",
      "metadata": {
        "id": "u_nzI2v1Y25e",
        "colab_type": "code",
        "colab": {}
      },
      "source": [
        ""
      ],
      "execution_count": null,
      "outputs": []
    }
  ]
}