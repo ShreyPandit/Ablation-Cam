{
  "nbformat": 4,
  "nbformat_minor": 0,
  "metadata": {
    "colab": {
      "name": "Ablation_Cam_CIFAR-100",
      "provenance": []
    },
    "kernelspec": {
      "name": "python3",
      "display_name": "Python 3"
    },
    "accelerator": "GPU"
  },
  "cells": [
    {
      "cell_type": "code",
      "metadata": {
        "id": "5mkCGRbVj9f7",
        "colab_type": "code",
        "colab": {}
      },
      "source": [
        "import numpy as np\n",
        "import tensorflow as tf\n",
        "from tensorflow import keras\n",
        "from IPython.display import Image\n",
        "import matplotlib.pyplot as plt\n",
        "import matplotlib.cm as cm\n",
        "import glob\n",
        "import matplotlib\n",
        "from matplotlib import pyplot as plt\n",
        "import matplotlib.image as mpimg\n",
        "import numpy as np\n",
        "import imageio as im\n",
        "from keras import models\n",
        "from keras.models import Sequential\n",
        "from keras.layers import Conv2D ,Input\n",
        "from keras.layers import MaxPool2D,BatchNormalization\n",
        "from keras.layers import Flatten\n",
        "from keras.layers import Dense\n",
        "from keras.layers import Dropout\n",
        "from keras.preprocessing import image\n",
        "from keras.preprocessing.image import ImageDataGenerator\n",
        "from keras.callbacks import ModelCheckpoint\n",
        "import pandas as pd\n",
        "import keras.backend as K\n",
        "import cv2\n",
        "from __future__ import print_function\n",
        "import keras\n",
        "from keras.datasets import cifar100\n",
        "from keras.preprocessing.image import ImageDataGenerator\n",
        "from keras.models import Sequential\n",
        "from keras.layers import Dense, Dropout, Activation, Flatten\n",
        "from keras.layers import Conv2D, MaxPooling2D, BatchNormalization\n",
        "from keras import optimizers\n",
        "import numpy as np\n",
        "from keras.layers.core import Lambda\n",
        "from keras import backend as K\n",
        "from keras import regularizers\n"
      ],
      "execution_count": 82,
      "outputs": []
    },
    {
      "cell_type": "code",
      "metadata": {
        "id": "zTPurafpkDjE",
        "colab_type": "code",
        "colab": {}
      },
      "source": [
        "(x_train,y_train),(x_test,y_test)=keras.datasets.cifar100.load_data()\n",
        "y_train = keras.utils.to_categorical(y_train, 100)\n",
        "y_test = keras.utils.to_categorical(y_test, 100)"
      ],
      "execution_count": 83,
      "outputs": []
    },
    {
      "cell_type": "code",
      "metadata": {
        "id": "8gICpMrkcAuC",
        "colab_type": "code",
        "colab": {}
      },
      "source": [
        "# count = []\n",
        "# for i in range(1000):\n",
        "#   number = np.argmax(y_train[i])\n",
        "#   if number not in count:\n",
        "#     count.append(number)\n",
        "#     if (y_train[i][number]==1):\n",
        "#       plt.figure()\n",
        "#       plt.title(number)\n",
        "#       plt.imshow(x_train[i])\n",
        "\n",
        "# for i in range(1000):\n",
        "#   if y_train[i][67]==1:\n",
        "#     plt.figure()\n",
        "#     plt.imshow(x_train[i])"
      ],
      "execution_count": 84,
      "outputs": []
    },
    {
      "cell_type": "code",
      "metadata": {
        "id": "E5mq3ei6cwDa",
        "colab_type": "code",
        "colab": {
          "base_uri": "https://localhost:8080/",
          "height": 34
        },
        "outputId": "8ac0bbb9-3457-4dd3-cb98-53f0d4ff719a"
      },
      "source": [
        "np.argmax(y_train[0])"
      ],
      "execution_count": 85,
      "outputs": [
        {
          "output_type": "execute_result",
          "data": {
            "text/plain": [
              "19"
            ]
          },
          "metadata": {
            "tags": []
          },
          "execution_count": 85
        }
      ]
    },
    {
      "cell_type": "code",
      "metadata": {
        "id": "ItkJQoYDkStg",
        "colab_type": "code",
        "colab": {}
      },
      "source": [
        "# input = Input(shape=(32,32,3))\n",
        "# x = Conv2D(128,3,activation='relu')(input)\n",
        "# x = Conv2D(64,3,activation='relu')(x)\n",
        "# x = Dropout(0.2)(x)\n",
        "# x = Conv2D(32,3,activation='relu')(x)\n",
        "# x = MaxPool2D((2,2))(x)\n",
        "# x = Conv2D(16,3,activation='relu')(x)\n",
        "# x = Dropout(0.2)(x)\n",
        "\n",
        "# y = Flatten()(x)\n",
        "# y = Dense(128,activation='relu')(y)\n",
        "# y = Dense(100,activation='softmax')(y)\n",
        "\n",
        "# model = models.Model(input,y)\n"
      ],
      "execution_count": 86,
      "outputs": []
    },
    {
      "cell_type": "code",
      "metadata": {
        "id": "WSJICYZkfWLY",
        "colab_type": "code",
        "colab": {
          "base_uri": "https://localhost:8080/",
          "height": 1000
        },
        "outputId": "8da83a0f-384c-4b17-995f-9235c19075e5"
      },
      "source": [
        "model = Sequential()\n",
        "weight_decay = 0.0005\n",
        "\n",
        "model.add(Conv2D(64, (3, 3), padding='same',\n",
        "                  input_shape=(32,32,3),kernel_regularizer=regularizers.l2(weight_decay)))\n",
        "model.add(Activation('relu'))\n",
        "model.add(BatchNormalization())\n",
        "model.add(Dropout(0.3))\n",
        "\n",
        "model.add(Conv2D(64, (3, 3), padding='same',kernel_regularizer=regularizers.l2(weight_decay)))\n",
        "model.add(Activation('relu'))\n",
        "model.add(BatchNormalization())\n",
        "\n",
        "model.add(MaxPooling2D(pool_size=(2, 2)))\n",
        "\n",
        "model.add(Conv2D(128, (3, 3), padding='same',kernel_regularizer=regularizers.l2(weight_decay)))\n",
        "model.add(Activation('relu'))\n",
        "model.add(BatchNormalization())\n",
        "model.add(Dropout(0.4))\n",
        "\n",
        "model.add(Conv2D(128, (3, 3), padding='same',kernel_regularizer=regularizers.l2(weight_decay)))\n",
        "model.add(Activation('relu'))\n",
        "model.add(BatchNormalization())\n",
        "\n",
        "model.add(MaxPooling2D(pool_size=(2, 2)))\n",
        "\n",
        "model.add(Conv2D(256, (3, 3), padding='same',kernel_regularizer=regularizers.l2(weight_decay)))\n",
        "model.add(Activation('relu'))\n",
        "model.add(BatchNormalization())\n",
        "model.add(Dropout(0.4))\n",
        "\n",
        "model.add(Conv2D(256, (3, 3), padding='same',kernel_regularizer=regularizers.l2(weight_decay)))\n",
        "model.add(Activation('relu'))\n",
        "model.add(BatchNormalization())\n",
        "model.add(Dropout(0.4))\n",
        "\n",
        "model.add(Conv2D(256, (3, 3), padding='same',kernel_regularizer=regularizers.l2(weight_decay)))\n",
        "model.add(Activation('relu'))\n",
        "model.add(BatchNormalization())\n",
        "\n",
        "model.add(MaxPooling2D(pool_size=(2, 2)))\n",
        "model.add(Dropout(0.5))\n",
        "\n",
        "model.add(Flatten())\n",
        "model.add(Dense(512,kernel_regularizer=regularizers.l2(weight_decay)))\n",
        "model.add(Activation('relu'))\n",
        "model.add(BatchNormalization())\n",
        "\n",
        "model.add(Dropout(0.5))\n",
        "model.add(Dense(100))\n",
        "model.add(Activation('softmax'))\n",
        "\n",
        "model.summary()"
      ],
      "execution_count": 87,
      "outputs": [
        {
          "output_type": "stream",
          "text": [
            "Model: \"sequential_6\"\n",
            "_________________________________________________________________\n",
            "Layer (type)                 Output Shape              Param #   \n",
            "=================================================================\n",
            "conv2d_38 (Conv2D)           (None, 32, 32, 64)        1792      \n",
            "_________________________________________________________________\n",
            "activation_39 (Activation)   (None, 32, 32, 64)        0         \n",
            "_________________________________________________________________\n",
            "batch_normalization_36 (Batc (None, 32, 32, 64)        256       \n",
            "_________________________________________________________________\n",
            "dropout_28 (Dropout)         (None, 32, 32, 64)        0         \n",
            "_________________________________________________________________\n",
            "conv2d_39 (Conv2D)           (None, 32, 32, 64)        36928     \n",
            "_________________________________________________________________\n",
            "activation_40 (Activation)   (None, 32, 32, 64)        0         \n",
            "_________________________________________________________________\n",
            "batch_normalization_37 (Batc (None, 32, 32, 64)        256       \n",
            "_________________________________________________________________\n",
            "max_pooling2d_14 (MaxPooling (None, 16, 16, 64)        0         \n",
            "_________________________________________________________________\n",
            "conv2d_40 (Conv2D)           (None, 16, 16, 128)       73856     \n",
            "_________________________________________________________________\n",
            "activation_41 (Activation)   (None, 16, 16, 128)       0         \n",
            "_________________________________________________________________\n",
            "batch_normalization_38 (Batc (None, 16, 16, 128)       512       \n",
            "_________________________________________________________________\n",
            "dropout_29 (Dropout)         (None, 16, 16, 128)       0         \n",
            "_________________________________________________________________\n",
            "conv2d_41 (Conv2D)           (None, 16, 16, 128)       147584    \n",
            "_________________________________________________________________\n",
            "activation_42 (Activation)   (None, 16, 16, 128)       0         \n",
            "_________________________________________________________________\n",
            "batch_normalization_39 (Batc (None, 16, 16, 128)       512       \n",
            "_________________________________________________________________\n",
            "max_pooling2d_15 (MaxPooling (None, 8, 8, 128)         0         \n",
            "_________________________________________________________________\n",
            "conv2d_42 (Conv2D)           (None, 8, 8, 256)         295168    \n",
            "_________________________________________________________________\n",
            "activation_43 (Activation)   (None, 8, 8, 256)         0         \n",
            "_________________________________________________________________\n",
            "batch_normalization_40 (Batc (None, 8, 8, 256)         1024      \n",
            "_________________________________________________________________\n",
            "dropout_30 (Dropout)         (None, 8, 8, 256)         0         \n",
            "_________________________________________________________________\n",
            "conv2d_43 (Conv2D)           (None, 8, 8, 256)         590080    \n",
            "_________________________________________________________________\n",
            "activation_44 (Activation)   (None, 8, 8, 256)         0         \n",
            "_________________________________________________________________\n",
            "batch_normalization_41 (Batc (None, 8, 8, 256)         1024      \n",
            "_________________________________________________________________\n",
            "dropout_31 (Dropout)         (None, 8, 8, 256)         0         \n",
            "_________________________________________________________________\n",
            "conv2d_44 (Conv2D)           (None, 8, 8, 256)         590080    \n",
            "_________________________________________________________________\n",
            "activation_45 (Activation)   (None, 8, 8, 256)         0         \n",
            "_________________________________________________________________\n",
            "batch_normalization_42 (Batc (None, 8, 8, 256)         1024      \n",
            "_________________________________________________________________\n",
            "max_pooling2d_16 (MaxPooling (None, 4, 4, 256)         0         \n",
            "_________________________________________________________________\n",
            "dropout_32 (Dropout)         (None, 4, 4, 256)         0         \n",
            "_________________________________________________________________\n",
            "flatten_5 (Flatten)          (None, 4096)              0         \n",
            "_________________________________________________________________\n",
            "dense_10 (Dense)             (None, 512)               2097664   \n",
            "_________________________________________________________________\n",
            "activation_46 (Activation)   (None, 512)               0         \n",
            "_________________________________________________________________\n",
            "batch_normalization_43 (Batc (None, 512)               2048      \n",
            "_________________________________________________________________\n",
            "dropout_33 (Dropout)         (None, 512)               0         \n",
            "_________________________________________________________________\n",
            "dense_11 (Dense)             (None, 100)               51300     \n",
            "_________________________________________________________________\n",
            "activation_47 (Activation)   (None, 100)               0         \n",
            "=================================================================\n",
            "Total params: 3,891,108\n",
            "Trainable params: 3,887,780\n",
            "Non-trainable params: 3,328\n",
            "_________________________________________________________________\n"
          ],
          "name": "stdout"
        }
      ]
    },
    {
      "cell_type": "code",
      "metadata": {
        "id": "H4MDHgD2lED5",
        "colab_type": "code",
        "colab": {}
      },
      "source": [
        "model.compile(optimizer='adam',loss='categorical_crossentropy',metrics=['acc'])"
      ],
      "execution_count": 89,
      "outputs": []
    },
    {
      "cell_type": "code",
      "metadata": {
        "id": "l6Aol3yalikp",
        "colab_type": "code",
        "colab": {
          "base_uri": "https://localhost:8080/",
          "height": 1000
        },
        "outputId": "d5bfc4f9-809c-444b-e554-ed63e13fa204"
      },
      "source": [
        "model.fit(x_train,y_train,epochs=50,validation_data=(x_test,y_test),batch_size=32)"
      ],
      "execution_count": 90,
      "outputs": [
        {
          "output_type": "stream",
          "text": [
            "Epoch 1/50\n",
            "1563/1563 [==============================] - 52s 33ms/step - loss: 5.2625 - acc: 0.1007 - val_loss: 4.6029 - val_acc: 0.1700\n",
            "Epoch 2/50\n",
            "1563/1563 [==============================] - 51s 33ms/step - loss: 4.3775 - acc: 0.2147 - val_loss: 4.1917 - val_acc: 0.2450\n",
            "Epoch 3/50\n",
            "1563/1563 [==============================] - 51s 33ms/step - loss: 4.0185 - acc: 0.2909 - val_loss: 3.7675 - val_acc: 0.3507\n",
            "Epoch 4/50\n",
            "1563/1563 [==============================] - 51s 33ms/step - loss: 3.9210 - acc: 0.3325 - val_loss: 3.7321 - val_acc: 0.3884\n",
            "Epoch 5/50\n",
            "1563/1563 [==============================] - 51s 33ms/step - loss: 3.9012 - acc: 0.3605 - val_loss: 3.6221 - val_acc: 0.4205\n",
            "Epoch 6/50\n",
            "1563/1563 [==============================] - 51s 33ms/step - loss: 3.8644 - acc: 0.3792 - val_loss: 3.8729 - val_acc: 0.3883\n",
            "Epoch 7/50\n",
            "1563/1563 [==============================] - 51s 33ms/step - loss: 3.8425 - acc: 0.3947 - val_loss: 3.7810 - val_acc: 0.4154\n",
            "Epoch 8/50\n",
            "1563/1563 [==============================] - 52s 33ms/step - loss: 3.8155 - acc: 0.4040 - val_loss: 3.7794 - val_acc: 0.4167\n",
            "Epoch 9/50\n",
            "1563/1563 [==============================] - 51s 33ms/step - loss: 3.7745 - acc: 0.4109 - val_loss: 3.8409 - val_acc: 0.4006\n",
            "Epoch 10/50\n",
            "1563/1563 [==============================] - 51s 33ms/step - loss: 3.7490 - acc: 0.4225 - val_loss: 3.7460 - val_acc: 0.4158\n",
            "Epoch 11/50\n",
            "1563/1563 [==============================] - 51s 33ms/step - loss: 3.7118 - acc: 0.4286 - val_loss: 3.5860 - val_acc: 0.4563\n",
            "Epoch 12/50\n",
            "1563/1563 [==============================] - 51s 33ms/step - loss: 3.6961 - acc: 0.4367 - val_loss: 3.6865 - val_acc: 0.4341\n",
            "Epoch 13/50\n",
            "1563/1563 [==============================] - 51s 33ms/step - loss: 3.6630 - acc: 0.4398 - val_loss: 3.5708 - val_acc: 0.4640\n",
            "Epoch 14/50\n",
            "1563/1563 [==============================] - 51s 33ms/step - loss: 3.6333 - acc: 0.4417 - val_loss: 3.6584 - val_acc: 0.4307\n",
            "Epoch 15/50\n",
            "1563/1563 [==============================] - 51s 33ms/step - loss: 3.5956 - acc: 0.4494 - val_loss: 3.5634 - val_acc: 0.4525\n",
            "Epoch 16/50\n",
            "1563/1563 [==============================] - 52s 33ms/step - loss: 3.5859 - acc: 0.4519 - val_loss: 3.5875 - val_acc: 0.4515\n",
            "Epoch 17/50\n",
            "1563/1563 [==============================] - 51s 33ms/step - loss: 3.5504 - acc: 0.4544 - val_loss: 3.4123 - val_acc: 0.4852\n",
            "Epoch 18/50\n",
            "1563/1563 [==============================] - 51s 33ms/step - loss: 3.5291 - acc: 0.4608 - val_loss: 3.4550 - val_acc: 0.4720\n",
            "Epoch 19/50\n",
            "1563/1563 [==============================] - 51s 33ms/step - loss: 3.4962 - acc: 0.4629 - val_loss: 3.4118 - val_acc: 0.4791\n",
            "Epoch 20/50\n",
            "1563/1563 [==============================] - 51s 33ms/step - loss: 3.4788 - acc: 0.4640 - val_loss: 3.4590 - val_acc: 0.4696\n",
            "Epoch 21/50\n",
            "1563/1563 [==============================] - 51s 33ms/step - loss: 3.4671 - acc: 0.4641 - val_loss: 3.3670 - val_acc: 0.4903\n",
            "Epoch 22/50\n",
            "1563/1563 [==============================] - 52s 33ms/step - loss: 3.4619 - acc: 0.4638 - val_loss: 3.3850 - val_acc: 0.4824\n",
            "Epoch 23/50\n",
            "1563/1563 [==============================] - 51s 33ms/step - loss: 3.4345 - acc: 0.4706 - val_loss: 3.3906 - val_acc: 0.4824\n",
            "Epoch 24/50\n",
            "1563/1563 [==============================] - 52s 33ms/step - loss: 3.4123 - acc: 0.4692 - val_loss: 3.3032 - val_acc: 0.4984\n",
            "Epoch 25/50\n",
            "1563/1563 [==============================] - 51s 33ms/step - loss: 3.4004 - acc: 0.4730 - val_loss: 3.2733 - val_acc: 0.4993\n",
            "Epoch 26/50\n",
            "1563/1563 [==============================] - 52s 33ms/step - loss: 3.3799 - acc: 0.4747 - val_loss: 3.4029 - val_acc: 0.4658\n",
            "Epoch 27/50\n",
            "1563/1563 [==============================] - 52s 33ms/step - loss: 3.3733 - acc: 0.4735 - val_loss: 3.3259 - val_acc: 0.4887\n",
            "Epoch 28/50\n",
            "1563/1563 [==============================] - 52s 33ms/step - loss: 3.3543 - acc: 0.4748 - val_loss: 3.3118 - val_acc: 0.4901\n",
            "Epoch 29/50\n",
            "1563/1563 [==============================] - 52s 33ms/step - loss: 3.3450 - acc: 0.4760 - val_loss: 3.3405 - val_acc: 0.4830\n",
            "Epoch 30/50\n",
            "1563/1563 [==============================] - 52s 33ms/step - loss: 3.3376 - acc: 0.4780 - val_loss: 3.2463 - val_acc: 0.5048\n",
            "Epoch 31/50\n",
            "1563/1563 [==============================] - 52s 33ms/step - loss: 3.3301 - acc: 0.4800 - val_loss: 3.2801 - val_acc: 0.4909\n",
            "Epoch 32/50\n",
            "1563/1563 [==============================] - 52s 33ms/step - loss: 3.3226 - acc: 0.4791 - val_loss: 3.3062 - val_acc: 0.4839\n",
            "Epoch 33/50\n",
            "1563/1563 [==============================] - 52s 33ms/step - loss: 3.3073 - acc: 0.4824 - val_loss: 3.2354 - val_acc: 0.5009\n",
            "Epoch 34/50\n",
            "1563/1563 [==============================] - 52s 33ms/step - loss: 3.3108 - acc: 0.4790 - val_loss: 3.1391 - val_acc: 0.5177\n",
            "Epoch 35/50\n",
            "1563/1563 [==============================] - 52s 33ms/step - loss: 3.2909 - acc: 0.4847 - val_loss: 3.1095 - val_acc: 0.5240\n",
            "Epoch 36/50\n",
            "1563/1563 [==============================] - 51s 33ms/step - loss: 3.2805 - acc: 0.4829 - val_loss: 3.1174 - val_acc: 0.5191\n",
            "Epoch 37/50\n",
            "1563/1563 [==============================] - 51s 33ms/step - loss: 3.2791 - acc: 0.4861 - val_loss: 3.1638 - val_acc: 0.5112\n",
            "Epoch 38/50\n",
            "1563/1563 [==============================] - 52s 33ms/step - loss: 3.2706 - acc: 0.4845 - val_loss: 3.1313 - val_acc: 0.5190\n",
            "Epoch 39/50\n",
            "1563/1563 [==============================] - 51s 33ms/step - loss: 3.2743 - acc: 0.4845 - val_loss: 3.1904 - val_acc: 0.5006\n",
            "Epoch 40/50\n",
            "1563/1563 [==============================] - 51s 33ms/step - loss: 3.2613 - acc: 0.4860 - val_loss: 3.2125 - val_acc: 0.4968\n",
            "Epoch 41/50\n",
            "1563/1563 [==============================] - 52s 33ms/step - loss: 3.2432 - acc: 0.4890 - val_loss: 3.3322 - val_acc: 0.4783\n",
            "Epoch 42/50\n",
            "1563/1563 [==============================] - 51s 33ms/step - loss: 3.2455 - acc: 0.4868 - val_loss: 3.1364 - val_acc: 0.5141\n",
            "Epoch 43/50\n",
            "1563/1563 [==============================] - 51s 33ms/step - loss: 3.2440 - acc: 0.4866 - val_loss: 3.1241 - val_acc: 0.5172\n",
            "Epoch 44/50\n",
            "1563/1563 [==============================] - 51s 33ms/step - loss: 3.2238 - acc: 0.4904 - val_loss: 3.2292 - val_acc: 0.4936\n",
            "Epoch 45/50\n",
            "1563/1563 [==============================] - 51s 33ms/step - loss: 3.2397 - acc: 0.4884 - val_loss: 3.1211 - val_acc: 0.5176\n",
            "Epoch 46/50\n",
            "1563/1563 [==============================] - 51s 33ms/step - loss: 3.2319 - acc: 0.4915 - val_loss: 3.2326 - val_acc: 0.4970\n",
            "Epoch 47/50\n",
            "1563/1563 [==============================] - 51s 33ms/step - loss: 3.2175 - acc: 0.4916 - val_loss: 3.1374 - val_acc: 0.5112\n",
            "Epoch 48/50\n",
            "1563/1563 [==============================] - 51s 33ms/step - loss: 3.2112 - acc: 0.4927 - val_loss: 3.2079 - val_acc: 0.4947\n",
            "Epoch 49/50\n",
            "1563/1563 [==============================] - 51s 33ms/step - loss: 3.2005 - acc: 0.4924 - val_loss: 3.2631 - val_acc: 0.4816\n",
            "Epoch 50/50\n",
            "1563/1563 [==============================] - 51s 33ms/step - loss: 3.2055 - acc: 0.4921 - val_loss: 3.3054 - val_acc: 0.4757\n"
          ],
          "name": "stdout"
        },
        {
          "output_type": "execute_result",
          "data": {
            "text/plain": [
              "<tensorflow.python.keras.callbacks.History at 0x7f534941b1d0>"
            ]
          },
          "metadata": {
            "tags": []
          },
          "execution_count": 90
        }
      ]
    },
    {
      "cell_type": "code",
      "metadata": {
        "id": "J7rmNVRTJe2l",
        "colab_type": "code",
        "colab": {}
      },
      "source": [
        "model.save_weights(\"weights.h5\")"
      ],
      "execution_count": 137,
      "outputs": []
    },
    {
      "cell_type": "code",
      "metadata": {
        "id": "vuu5cj7us--2",
        "colab_type": "code",
        "colab": {
          "base_uri": "https://localhost:8080/",
          "height": 521
        },
        "outputId": "0fd71f67-cbd4-4be4-9df3-4c89f538dd68"
      },
      "source": [
        "layer_outputs = [layer.output for layer in model.layers[:-7]] # Getting all the ouputs of layers (mainly Conv layers)\n",
        "layer_outputs"
      ],
      "execution_count": 128,
      "outputs": [
        {
          "output_type": "execute_result",
          "data": {
            "text/plain": [
              "[<tf.Tensor 'conv2d_38/BiasAdd:0' shape=(None, 32, 32, 64) dtype=float32>,\n",
              " <tf.Tensor 'activation_39/Relu:0' shape=(None, 32, 32, 64) dtype=float32>,\n",
              " <tf.Tensor 'batch_normalization_36/cond/Identity:0' shape=(None, 32, 32, 64) dtype=float32>,\n",
              " <tf.Tensor 'dropout_28/cond/Identity:0' shape=(None, 32, 32, 64) dtype=float32>,\n",
              " <tf.Tensor 'conv2d_39/BiasAdd:0' shape=(None, 32, 32, 64) dtype=float32>,\n",
              " <tf.Tensor 'activation_40/Relu:0' shape=(None, 32, 32, 64) dtype=float32>,\n",
              " <tf.Tensor 'batch_normalization_37/cond/Identity:0' shape=(None, 32, 32, 64) dtype=float32>,\n",
              " <tf.Tensor 'max_pooling2d_14/MaxPool:0' shape=(None, 16, 16, 64) dtype=float32>,\n",
              " <tf.Tensor 'conv2d_40/BiasAdd:0' shape=(None, 16, 16, 128) dtype=float32>,\n",
              " <tf.Tensor 'activation_41/Relu:0' shape=(None, 16, 16, 128) dtype=float32>,\n",
              " <tf.Tensor 'batch_normalization_38/cond/Identity:0' shape=(None, 16, 16, 128) dtype=float32>,\n",
              " <tf.Tensor 'dropout_29/cond/Identity:0' shape=(None, 16, 16, 128) dtype=float32>,\n",
              " <tf.Tensor 'conv2d_41/BiasAdd:0' shape=(None, 16, 16, 128) dtype=float32>,\n",
              " <tf.Tensor 'activation_42/Relu:0' shape=(None, 16, 16, 128) dtype=float32>,\n",
              " <tf.Tensor 'batch_normalization_39/cond/Identity:0' shape=(None, 16, 16, 128) dtype=float32>,\n",
              " <tf.Tensor 'max_pooling2d_15/MaxPool:0' shape=(None, 8, 8, 128) dtype=float32>,\n",
              " <tf.Tensor 'conv2d_42/BiasAdd:0' shape=(None, 8, 8, 256) dtype=float32>,\n",
              " <tf.Tensor 'activation_43/Relu:0' shape=(None, 8, 8, 256) dtype=float32>,\n",
              " <tf.Tensor 'batch_normalization_40/cond/Identity:0' shape=(None, 8, 8, 256) dtype=float32>,\n",
              " <tf.Tensor 'dropout_30/cond/Identity:0' shape=(None, 8, 8, 256) dtype=float32>,\n",
              " <tf.Tensor 'conv2d_43/BiasAdd:0' shape=(None, 8, 8, 256) dtype=float32>,\n",
              " <tf.Tensor 'activation_44/Relu:0' shape=(None, 8, 8, 256) dtype=float32>,\n",
              " <tf.Tensor 'batch_normalization_41/cond/Identity:0' shape=(None, 8, 8, 256) dtype=float32>,\n",
              " <tf.Tensor 'dropout_31/cond/Identity:0' shape=(None, 8, 8, 256) dtype=float32>,\n",
              " <tf.Tensor 'conv2d_44/BiasAdd:0' shape=(None, 8, 8, 256) dtype=float32>,\n",
              " <tf.Tensor 'activation_45/Relu:0' shape=(None, 8, 8, 256) dtype=float32>,\n",
              " <tf.Tensor 'batch_normalization_42/cond/Identity:0' shape=(None, 8, 8, 256) dtype=float32>,\n",
              " <tf.Tensor 'max_pooling2d_16/MaxPool:0' shape=(None, 4, 4, 256) dtype=float32>,\n",
              " <tf.Tensor 'dropout_32/cond/Identity:0' shape=(None, 4, 4, 256) dtype=float32>]"
            ]
          },
          "metadata": {
            "tags": []
          },
          "execution_count": 128
        }
      ]
    },
    {
      "cell_type": "code",
      "metadata": {
        "id": "n4TR-ww4tAMP",
        "colab_type": "code",
        "colab": {}
      },
      "source": [
        "a = model.layers[-9]\n",
        "classifier_layer_names = [\n",
        "    \"flatten_5\",'dense_10','activation_46','batch_normalization_43','dropout_33','dense_11','activation_47'\n",
        "]\n",
        "classifier_input = keras.Input(shape=a.output.shape[1:])\n",
        "x = classifier_input\n",
        "for layer_name in classifier_layer_names:\n",
        "  x = model.get_layer(layer_name)(x)\n",
        "classifier_model = keras.Model(classifier_input, x)"
      ],
      "execution_count": 138,
      "outputs": []
    },
    {
      "cell_type": "code",
      "metadata": {
        "id": "UXFvpEattFMb",
        "colab_type": "code",
        "colab": {
          "base_uri": "https://localhost:8080/",
          "height": 434
        },
        "outputId": "933f678d-df61-465f-9048-75ecca83bb8c"
      },
      "source": [
        "classifier_model.summary()"
      ],
      "execution_count": 139,
      "outputs": [
        {
          "output_type": "stream",
          "text": [
            "Model: \"functional_33\"\n",
            "_________________________________________________________________\n",
            "Layer (type)                 Output Shape              Param #   \n",
            "=================================================================\n",
            "input_18 (InputLayer)        [(None, 4, 4, 256)]       0         \n",
            "_________________________________________________________________\n",
            "flatten_5 (Flatten)          multiple                  0         \n",
            "_________________________________________________________________\n",
            "dense_10 (Dense)             (None, 512)               2097664   \n",
            "_________________________________________________________________\n",
            "activation_46 (Activation)   (None, 512)               0         \n",
            "_________________________________________________________________\n",
            "batch_normalization_43 (Batc (None, 512)               2048      \n",
            "_________________________________________________________________\n",
            "dropout_33 (Dropout)         (None, 512)               0         \n",
            "_________________________________________________________________\n",
            "dense_11 (Dense)             (None, 100)               51300     \n",
            "_________________________________________________________________\n",
            "activation_47 (Activation)   (None, 100)               0         \n",
            "=================================================================\n",
            "Total params: 2,151,012\n",
            "Trainable params: 2,149,988\n",
            "Non-trainable params: 1,024\n",
            "_________________________________________________________________\n"
          ],
          "name": "stdout"
        }
      ]
    },
    {
      "cell_type": "code",
      "metadata": {
        "id": "YGopCVaNtYbP",
        "colab_type": "code",
        "colab": {}
      },
      "source": [
        "activation_model = models.Model(inputs=model.input, outputs=layer_outputs) # Activation model from Image to Last layer before Flatten"
      ],
      "execution_count": 140,
      "outputs": []
    },
    {
      "cell_type": "code",
      "metadata": {
        "id": "AnNbtU6htasL",
        "colab_type": "code",
        "colab": {
          "base_uri": "https://localhost:8080/",
          "height": 34
        },
        "outputId": "cd0feb53-2e25-4dd8-b963-e2979485c7e9"
      },
      "source": [
        "img = keras.preprocessing.image.load_img('b.jpg',target_size=(32,32,3))\n",
        "img = keras.preprocessing.image.img_to_array(img)\n",
        "img = np.expand_dims(img,axis=0)\n",
        "img.shape\n",
        "#model.predict(img)"
      ],
      "execution_count": 171,
      "outputs": [
        {
          "output_type": "execute_result",
          "data": {
            "text/plain": [
              "(1, 32, 32, 3)"
            ]
          },
          "metadata": {
            "tags": []
          },
          "execution_count": 171
        }
      ]
    },
    {
      "cell_type": "code",
      "metadata": {
        "id": "q_V3U-xetji9",
        "colab_type": "code",
        "colab": {
          "base_uri": "https://localhost:8080/",
          "height": 52
        },
        "outputId": "9aff42fa-4c02-4300-a1e6-8b808ff1e30f"
      },
      "source": [
        "class_number = np.argmax(model.predict(img))\n",
        "print(class_number)\n",
        "pred_value = model.predict(img)[0][class_number]\n",
        "pred_value"
      ],
      "execution_count": 142,
      "outputs": [
        {
          "output_type": "stream",
          "text": [
            "88\n"
          ],
          "name": "stdout"
        },
        {
          "output_type": "execute_result",
          "data": {
            "text/plain": [
              "0.30604428"
            ]
          },
          "metadata": {
            "tags": []
          },
          "execution_count": 142
        }
      ]
    },
    {
      "cell_type": "code",
      "metadata": {
        "id": "dVlEJemituLh",
        "colab_type": "code",
        "colab": {
          "base_uri": "https://localhost:8080/",
          "height": 34
        },
        "outputId": "a567e53f-d304-47b6-b098-1e62a24767e2"
      },
      "source": [
        "activations = activation_model.predict(img) \n",
        "last_layer_activation = activations[27]\n",
        "(last_layer_activation.shape)"
      ],
      "execution_count": 144,
      "outputs": [
        {
          "output_type": "execute_result",
          "data": {
            "text/plain": [
              "(1, 4, 4, 256)"
            ]
          },
          "metadata": {
            "tags": []
          },
          "execution_count": 144
        }
      ]
    },
    {
      "cell_type": "code",
      "metadata": {
        "id": "Gw2NkTOonQSO",
        "colab_type": "code",
        "colab": {
          "base_uri": "https://localhost:8080/",
          "height": 286
        },
        "outputId": "8ef7c85f-f2d7-4eea-af45-12552e4cba64"
      },
      "source": [
        "heatmap = np.mean(last_layer_activation, axis=-1)\n",
        "heatmap = np.maximum(heatmap, 0) / np.max(heatmap)\n",
        "heatmap\n",
        "plt.imshow(heatmap[0])"
      ],
      "execution_count": 145,
      "outputs": [
        {
          "output_type": "execute_result",
          "data": {
            "text/plain": [
              "<matplotlib.image.AxesImage at 0x7f5348c12ef0>"
            ]
          },
          "metadata": {
            "tags": []
          },
          "execution_count": 145
        },
        {
          "output_type": "display_data",
          "data": {
            "image/png": "[encoded data removed]",
            "text/plain": [
              "<Figure size 432x288 with 1 Axes>"
            ]
          },
          "metadata": {
            "tags": [],
            "needs_background": "light"
          }
        }
      ]
    },
    {
      "cell_type": "code",
      "metadata": {
        "id": "Fuxgv4-It36-",
        "colab_type": "code",
        "colab": {
          "base_uri": "https://localhost:8080/",
          "height": 1000
        },
        "outputId": "8c23f4da-fb20-4b92-c891-bba9424d72f6"
      },
      "source": [
        "values = []\n",
        "for i in range(256):\n",
        "  activations = activation_model.predict(img) \n",
        "  last_layer_activation = activations[27]\n",
        "  activation = last_layer_activation\n",
        "  for j in range(4):\n",
        "    for k in range(4):\n",
        "      activation[0][j][k][i]=0\n",
        "  #print(activation[0][0][0])\n",
        "  prediction = classifier_model(activation)\n",
        "  a= prediction[0][class_number]\n",
        "  values.append(a.numpy())\n",
        "values"
      ],
      "execution_count": 147,
      "outputs": [
        {
          "output_type": "execute_result",
          "data": {
            "text/plain": [
              "[0.31393635,\n",
              " 0.3146157,\n",
              " 0.30473068,\n",
              " 0.30604443,\n",
              " 0.3130193,\n",
              " 0.30604443,\n",
              " 0.29654473,\n",
              " 0.30604446,\n",
              " 0.30704045,\n",
              " 0.301583,\n",
              " 0.30606237,\n",
              " 0.29982424,\n",
              " 0.3019536,\n",
              " 0.30522716,\n",
              " 0.32294065,\n",
              " 0.305995,\n",
              " 0.30604443,\n",
              " 0.3078328,\n",
              " 0.30604443,\n",
              " 0.30288056,\n",
              " 0.30988726,\n",
              " 0.27715653,\n",
              " 0.30639848,\n",
              " 0.30604443,\n",
              " 0.30426306,\n",
              " 0.30563796,\n",
              " 0.32454452,\n",
              " 0.29919356,\n",
              " 0.30604443,\n",
              " 0.30962133,\n",
              " 0.3019125,\n",
              " 0.29509446,\n",
              " 0.30630696,\n",
              " 0.31678316,\n",
              " 0.3036416,\n",
              " 0.29637164,\n",
              " 0.29773974,\n",
              " 0.30604443,\n",
              " 0.30627453,\n",
              " 0.30606183,\n",
              " 0.33021933,\n",
              " 0.26835686,\n",
              " 0.30604443,\n",
              " 0.31436574,\n",
              " 0.29926324,\n",
              " 0.3060441,\n",
              " 0.2812512,\n",
              " 0.30025777,\n",
              " 0.30604443,\n",
              " 0.2976674,\n",
              " 0.30647716,\n",
              " 0.29505607,\n",
              " 0.31153402,\n",
              " 0.30604443,\n",
              " 0.3060444,\n",
              " 0.30574843,\n",
              " 0.30545527,\n",
              " 0.30604443,\n",
              " 0.30018833,\n",
              " 0.30397508,\n",
              " 0.30881628,\n",
              " 0.3001299,\n",
              " 0.29898873,\n",
              " 0.31597906,\n",
              " 0.2972899,\n",
              " 0.310062,\n",
              " 0.31422725,\n",
              " 0.30485123,\n",
              " 0.31254968,\n",
              " 0.30612314,\n",
              " 0.29610363,\n",
              " 0.2932339,\n",
              " 0.3020804,\n",
              " 0.30604443,\n",
              " 0.30604443,\n",
              " 0.30780837,\n",
              " 0.30604443,\n",
              " 0.29989904,\n",
              " 0.30550188,\n",
              " 0.30140793,\n",
              " 0.29925606,\n",
              " 0.30712643,\n",
              " 0.30604443,\n",
              " 0.30744967,\n",
              " 0.3060889,\n",
              " 0.31519198,\n",
              " 0.30610955,\n",
              " 0.30915305,\n",
              " 0.31116155,\n",
              " 0.30604443,\n",
              " 0.30295414,\n",
              " 0.30604443,\n",
              " 0.30604443,\n",
              " 0.3130781,\n",
              " 0.29558685,\n",
              " 0.31291744,\n",
              " 0.29285407,\n",
              " 0.30604446,\n",
              " 0.28830263,\n",
              " 0.31225926,\n",
              " 0.30797154,\n",
              " 0.30369475,\n",
              " 0.30317926,\n",
              " 0.31098711,\n",
              " 0.3147403,\n",
              " 0.30646604,\n",
              " 0.3036627,\n",
              " 0.30749965,\n",
              " 0.3131802,\n",
              " 0.31240335,\n",
              " 0.30604443,\n",
              " 0.31679446,\n",
              " 0.30261815,\n",
              " 0.31021345,\n",
              " 0.30604443,\n",
              " 0.31091276,\n",
              " 0.2861202,\n",
              " 0.29977793,\n",
              " 0.30604425,\n",
              " 0.3060444,\n",
              " 0.31875026,\n",
              " 0.30602807,\n",
              " 0.30604458,\n",
              " 0.31382203,\n",
              " 0.30758926,\n",
              " 0.30604443,\n",
              " 0.3029767,\n",
              " 0.33157784,\n",
              " 0.29242623,\n",
              " 0.3060444,\n",
              " 0.29795858,\n",
              " 0.3072078,\n",
              " 0.30141324,\n",
              " 0.30263925,\n",
              " 0.30604443,\n",
              " 0.29984358,\n",
              " 0.3248175,\n",
              " 0.29859525,\n",
              " 0.3032054,\n",
              " 0.28971022,\n",
              " 0.3060426,\n",
              " 0.30720246,\n",
              " 0.30604443,\n",
              " 0.28583786,\n",
              " 0.30604443,\n",
              " 0.31240362,\n",
              " 0.2860697,\n",
              " 0.29893336,\n",
              " 0.3055396,\n",
              " 0.30614668,\n",
              " 0.29654545,\n",
              " 0.2959426,\n",
              " 0.30554682,\n",
              " 0.3306441,\n",
              " 0.2988756,\n",
              " 0.30609244,\n",
              " 0.30604467,\n",
              " 0.30287305,\n",
              " 0.31358388,\n",
              " 0.3143258,\n",
              " 0.30604407,\n",
              " 0.30599144,\n",
              " 0.3055131,\n",
              " 0.30755368,\n",
              " 0.3085501,\n",
              " 0.31899884,\n",
              " 0.30366182,\n",
              " 0.30526936,\n",
              " 0.2722965,\n",
              " 0.30008674,\n",
              " 0.3030512,\n",
              " 0.29814053,\n",
              " 0.3098862,\n",
              " 0.29696319,\n",
              " 0.3082022,\n",
              " 0.3210973,\n",
              " 0.30604452,\n",
              " 0.30604443,\n",
              " 0.30010286,\n",
              " 0.3063546,\n",
              " 0.30604452,\n",
              " 0.31205878,\n",
              " 0.2999983,\n",
              " 0.30487084,\n",
              " 0.30675396,\n",
              " 0.30604443,\n",
              " 0.3059366,\n",
              " 0.30604443,\n",
              " 0.3060489,\n",
              " 0.30604443,\n",
              " 0.31253946,\n",
              " 0.31470174,\n",
              " 0.24043348,\n",
              " 0.30208835,\n",
              " 0.32275903,\n",
              " 0.29588085,\n",
              " 0.30604443,\n",
              " 0.30604443,\n",
              " 0.3051011,\n",
              " 0.2838254,\n",
              " 0.30311126,\n",
              " 0.30924663,\n",
              " 0.30628556,\n",
              " 0.30609173,\n",
              " 0.27900156,\n",
              " 0.30678093,\n",
              " 0.30907327,\n",
              " 0.31932697,\n",
              " 0.30544922,\n",
              " 0.30479252,\n",
              " 0.30436784,\n",
              " 0.3020215,\n",
              " 0.30522543,\n",
              " 0.30603948,\n",
              " 0.27917346,\n",
              " 0.30893812,\n",
              " 0.30071044,\n",
              " 0.30455053,\n",
              " 0.29287398,\n",
              " 0.30604443,\n",
              " 0.30078292,\n",
              " 0.30245596,\n",
              " 0.30604443,\n",
              " 0.308683,\n",
              " 0.30294675,\n",
              " 0.3079987,\n",
              " 0.30904502,\n",
              " 0.31096044,\n",
              " 0.30039835,\n",
              " 0.30246434,\n",
              " 0.3079602,\n",
              " 0.30604312,\n",
              " 0.30604443,\n",
              " 0.30632868,\n",
              " 0.30859566,\n",
              " 0.30628896,\n",
              " 0.30604452,\n",
              " 0.30025685,\n",
              " 0.30604443,\n",
              " 0.27812594,\n",
              " 0.3060591,\n",
              " 0.30624038,\n",
              " 0.30430868,\n",
              " 0.31245863,\n",
              " 0.30055225,\n",
              " 0.3140127,\n",
              " 0.30979365,\n",
              " 0.30604443,\n",
              " 0.30604455,\n",
              " 0.30132693,\n",
              " 0.30564085,\n",
              " 0.2851104,\n",
              " 0.30604446,\n",
              " 0.30608428,\n",
              " 0.30236995,\n",
              " 0.3085246]"
            ]
          },
          "metadata": {
            "tags": []
          },
          "execution_count": 147
        }
      ]
    },
    {
      "cell_type": "code",
      "metadata": {
        "id": "qL62xvEit_Ux",
        "colab_type": "code",
        "colab": {
          "base_uri": "https://localhost:8080/",
          "height": 1000
        },
        "outputId": "7e318f4a-83d8-402d-84a3-7d262b25a27d"
      },
      "source": [
        "aero = pred_value\n",
        "aero = [aero]*256\n",
        "weight_ratio = []\n",
        "for i in range(256):\n",
        "  b = (float(aero[i]) - float(values[i]))/float(aero[i])\n",
        "  weight_ratio.append(b)\n",
        "weight_ratio"
      ],
      "execution_count": 148,
      "outputs": [
        {
          "output_type": "execute_result",
          "data": {
            "text/plain": [
              "[-0.02578735399705253,\n",
              " -0.02800711101277984,\n",
              " 0.004292179424532254,\n",
              " -4.86895594588136e-07,\n",
              " -0.022790901128838224,\n",
              " -4.86895594588136e-07,\n",
              " 0.031039788913231503,\n",
              " -5.842747135057632e-07,\n",
              " -0.0032549944289406068,\n",
              " 0.01457726458549312,\n",
              " -5.910912518299971e-05,\n",
              " 0.02032399590929797,\n",
              " 0.01336625786263351,\n",
              " 0.0026699406824835024,\n",
              " -0.055208896712110905,\n",
              " 0.00016106506268975538,\n",
              " -4.86895594588136e-07,\n",
              " -0.005844013063603561,\n",
              " -4.86895594588136e-07,\n",
              " 0.01033747512693855,\n",
              " -0.01255694000530911,\n",
              " 0.09439074851628305,\n",
              " -0.0011573508283359993,\n",
              " -4.86895594588136e-07,\n",
              " 0.005820155179468742,\n",
              " 0.0013276669073229292,\n",
              " -0.06044954875490085,\n",
              " 0.022384732823832798,\n",
              " -4.86895594588136e-07,\n",
              " -0.011688026127207122,\n",
              " 0.013500641046739835,\n",
              " 0.035778548977119996,\n",
              " -0.0008582995541399661,\n",
              " -0.03508929957342103,\n",
              " 0.007850801946258023,\n",
              " 0.031605366835905084,\n",
              " 0.02713508100287249,\n",
              " -4.86895594588136e-07,\n",
              " -0.0007523510727575878,\n",
              " -5.735630104248242e-05,\n",
              " -0.07899199368360083,\n",
              " 0.123143686200853,\n",
              " -4.86895594588136e-07,\n",
              " -0.027190392342417703,\n",
              " 0.022157060443803386,\n",
              " 5.842747135057632e-07,\n",
              " 0.08101144185171458,\n",
              " 0.01890742186640325,\n",
              " -4.86895594588136e-07,\n",
              " 0.02737142012448557,\n",
              " -0.001414431702278535,\n",
              " 0.0359039732822859,\n",
              " -0.01793772060022152,\n",
              " -4.86895594588136e-07,\n",
              " -3.895164756705088e-07,\n",
              " 0.0009666825134952852,\n",
              " 0.001924600906287984,\n",
              " -4.86895594588136e-07,\n",
              " 0.019134315213481322,\n",
              " 0.006761129605569774,\n",
              " -0.00905752398788526,\n",
              " 0.01932527566567879,\n",
              " 0.02305401950815365,\n",
              " -0.032461913565904534,\n",
              " 0.028604921423815155,\n",
              " -0.013127873779523158,\n",
              " -0.026737871576807487,\n",
              " 0.003898280888510452,\n",
              " -0.021256400972934252,\n",
              " -0.00025766514865604154,\n",
              " 0.0324810972523313,\n",
              " 0.04185792737114746,\n",
              " 0.012952007090757924,\n",
              " -4.86895594588136e-07,\n",
              " -4.86895594588136e-07,\n",
              " -0.005764162186091107,\n",
              " -4.86895594588136e-07,\n",
              " 0.02007957432081473,\n",
              " 0.001772299964300815,\n",
              " 0.015149269530015263,\n",
              " 0.022180528811462534,\n",
              " -0.0035359331870179612,\n",
              " -4.86895594588136e-07,\n",
              " -0.0045921071107985455,\n",
              " -0.00014577654101968792,\n",
              " -0.029890131035289997,\n",
              " -0.00021326027042960357,\n",
              " -0.010157908031654447,\n",
              " -0.016720676371989013,\n",
              " -4.86895594588136e-07,\n",
              " 0.010097046082330929,\n",
              " -4.86895594588136e-07,\n",
              " -4.86895594588136e-07,\n",
              " -0.0229830301304627,\n",
              " 0.034169651174362964,\n",
              " -0.022458059300377774,\n",
              " 0.043099024241752625,\n",
              " -5.842747135057632e-07,\n",
              " 0.05797086066197157,\n",
              " -0.020307441459081976,\n",
              " -0.0062973128621651156,\n",
              " 0.007677077598108976,\n",
              " 0.009361444218027173,\n",
              " -0.01615071638896414,\n",
              " -0.02841425310897444,\n",
              " -0.0013781092909222602,\n",
              " 0.007781857530064342,\n",
              " -0.004755411893223407,\n",
              " -0.02331665099187449,\n",
              " -0.020778269499048704,\n",
              " -4.86895594588136e-07,\n",
              " -0.03512620625949081,\n",
              " 0.011194898269008258,\n",
              " -0.013622754461862539,\n",
              " -4.86895594588136e-07,\n",
              " -0.015907755487264662,\n",
              " 0.06510193354030941,\n",
              " 0.020475323060095967,\n",
              " 9.73791189176272e-08,\n",
              " -3.895164756705088e-07,\n",
              " -0.041516808317579014,\n",
              " 5.297424069118919e-05,\n",
              " -9.73791189176272e-07,\n",
              " -0.025413807696884512,\n",
              " -0.005048230903808712,\n",
              " -4.86895594588136e-07,\n",
              " 0.010023330089310285,\n",
              " -0.08343092344034195,\n",
              " 0.044496998872934075,\n",
              " -3.895164756705088e-07,\n",
              " 0.026420026132660354,\n",
              " -0.0038017781816630835,\n",
              " 0.015131936046847925,\n",
              " 0.011125953852814579,\n",
              " -4.86895594588136e-07,\n",
              " 0.020260796861120433,\n",
              " -0.061341541484186315,\n",
              " 0.024339716015223084,\n",
              " 0.009276042730736414,\n",
              " 0.053371547496373115,\n",
              " 5.453230659387123e-06,\n",
              " -0.0037843473193768283,\n",
              " -4.86895594588136e-07,\n",
              " 0.06602450331293501,\n",
              " -4.86895594588136e-07,\n",
              " -0.02077914591111896,\n",
              " 0.06526699114687479,\n",
              " 0.0232349499111026,\n",
              " 0.001649017999751099,\n",
              " -0.00033459465260096704,\n",
              " 0.031037451814377483,\n",
              " 0.03300723663184325,\n",
              " 0.0016254522529730332,\n",
              " -0.08037993826553377,\n",
              " 0.023423670643564962,\n",
              " -0.00015736465617088556,\n",
              " -1.2659285459291536e-06,\n",
              " 0.010362014664905793,\n",
              " -0.024635651157613753,\n",
              " -0.027059904323068082,\n",
              " 6.816538324233904e-07,\n",
              " 0.00017265317784095303,\n",
              " 0.0017355880364688695,\n",
              " -0.004931960235821065,\n",
              " -0.008187733697713013,\n",
              " -0.042329047548470944,\n",
              " 0.007784681524512954,\n",
              " 0.0025320518500961424,\n",
              " 0.11027094571289403,\n",
              " 0.01946628062987151,\n",
              " 0.009779882292016217,\n",
              " 0.02582552661166824,\n",
              " -0.012553434357028074,\n",
              " 0.0296724887045091,\n",
              " -0.00705102724258755,\n",
              " -0.04918580344881783,\n",
              " -7.790329513410175e-07,\n",
              " -4.86895594588136e-07,\n",
              " 0.019413598526537075,\n",
              " -0.001014008765289252,\n",
              " -7.790329513410175e-07,\n",
              " -0.0196523721261231,\n",
              " 0.019755204475700113,\n",
              " 0.0038342054282626535,\n",
              " -0.0023188889587854563,\n",
              " -4.86895594588136e-07,\n",
              " 0.00035183075664938705,\n",
              " -4.86895594588136e-07,\n",
              " -1.5093763432232215e-05,\n",
              " -4.86895594588136e-07,\n",
              " -0.021222999935145506,\n",
              " -0.028288244529095032,\n",
              " 0.21438334380808055,\n",
              " 0.012926006866006916,\n",
              " -0.05461546836142688,\n",
              " 0.03320900616624057,\n",
              " -4.86895594588136e-07,\n",
              " -4.86895594588136e-07,\n",
              " 0.0030818543555050657,\n",
              " 0.07260022307608562,\n",
              " 0.009583663367397199,\n",
              " -0.010463678465055795,\n",
              " -0.0007883813467571098,\n",
              " -0.0001550275573168625,\n",
              " 0.08836210464321168,\n",
              " -0.002407017061405909,\n",
              " -0.009897224130311959,\n",
              " -0.043401191647754016,\n",
              " 0.0019443688674282622,\n",
              " 0.004090117752778177,\n",
              " 0.005477770197354365,\n",
              " 0.013144428229739154,\n",
              " 0.002675588671380725,\n",
              " 1.567803814573798e-05,\n",
              " 0.0878004218852948,\n",
              " -0.009455609826020518,\n",
              " 0.01742833042916341,\n",
              " 0.0048808361983893106,\n",
              " 0.043033974990315645,\n",
              " -4.86895594588136e-07,\n",
              " 0.01719150441195574,\n",
              " 0.011724835434157985,\n",
              " -4.86895594588136e-07,\n",
              " -0.00862204456808563,\n",
              " 0.0101211961038225,\n",
              " -0.006386025239499074,\n",
              " -0.009804908725578047,\n",
              " -0.016063562077532866,\n",
              " 0.0184480845624688,\n",
              " 0.011697471901742132,\n",
              " -0.006260308796976417,\n",
              " 3.797785637787461e-06,\n",
              " -4.86895594588136e-07,\n",
              " -0.0009292889318309164,\n",
              " -0.008336626370538065,\n",
              " -0.0007994825663137193,\n",
              " -7.790329513410175e-07,\n",
              " 0.018910440619089697,\n",
              " -4.86895594588136e-07,\n",
              " 0.09122320053613048,\n",
              " -4.839742210206072e-05,\n",
              " -0.000640754602477987,\n",
              " 0.005671067748405855,\n",
              " -0.0209589077646409,\n",
              " 0.017945218792378176,\n",
              " -0.02603683929971949,\n",
              " -0.012251072192788842,\n",
              " -4.86895594588136e-07,\n",
              " -8.764120702586448e-07,\n",
              " 0.015413945975233373,\n",
              " 0.0013182211327879194,\n",
              " 0.06840143022659537,\n",
              " -5.842747135057632e-07,\n",
              " -0.0001306827775874557,\n",
              " 0.012005871571354257,\n",
              " -0.008104474551038441]"
            ]
          },
          "metadata": {
            "tags": []
          },
          "execution_count": 148
        }
      ]
    },
    {
      "cell_type": "code",
      "metadata": {
        "id": "IflnEG6WvN7d",
        "colab_type": "code",
        "colab": {}
      },
      "source": [
        "for i in range(256):\n",
        "  for  j in range(4):\n",
        "    for k in range(4):\n",
        "      last_layer_activation[0][j][k][i]=last_layer_activation[0][j][k][i]*weight_ratio[i]\n",
        "      if (last_layer_activation[0][j][k][i]< 0 ):\n",
        "        last_layer_activation[0][j][k][i] = 0"
      ],
      "execution_count": 154,
      "outputs": []
    },
    {
      "cell_type": "code",
      "metadata": {
        "id": "Jov2dfjCvXfT",
        "colab_type": "code",
        "colab": {
          "base_uri": "https://localhost:8080/",
          "height": 286
        },
        "outputId": "bd328739-963d-450e-f237-35f474c5df59"
      },
      "source": [
        "heatmap = np.mean(last_layer_activation, axis=-1)\n",
        "heatmap = np.maximum(heatmap, 0) / np.max(heatmap)\n",
        "plt.imshow(heatmap[0])"
      ],
      "execution_count": 155,
      "outputs": [
        {
          "output_type": "execute_result",
          "data": {
            "text/plain": [
              "<matplotlib.image.AxesImage at 0x7f5347c429e8>"
            ]
          },
          "metadata": {
            "tags": []
          },
          "execution_count": 155
        },
        {
          "output_type": "display_data",
          "data": {
            "image/png": "[encoded data removed]",
            "text/plain": [
              "<Figure size 432x288 with 1 Axes>"
            ]
          },
          "metadata": {
            "tags": [],
            "needs_background": "light"
          }
        }
      ]
    },
    {
      "cell_type": "code",
      "metadata": {
        "id": "BUtFEFfPvaQu",
        "colab_type": "code",
        "colab": {
          "base_uri": "https://localhost:8080/",
          "height": 34
        },
        "outputId": "d8faa3db-a820-46eb-8a38-e4e38f9cc5f5"
      },
      "source": [
        "heatmap=heatmap[0,:,:,]\n",
        "heatmap.shape"
      ],
      "execution_count": 156,
      "outputs": [
        {
          "output_type": "execute_result",
          "data": {
            "text/plain": [
              "(4, 4)"
            ]
          },
          "metadata": {
            "tags": []
          },
          "execution_count": 156
        }
      ]
    },
    {
      "cell_type": "code",
      "metadata": {
        "id": "MOyTHA08vcoo",
        "colab_type": "code",
        "colab": {
          "base_uri": "https://localhost:8080/",
          "height": 619
        },
        "outputId": "42ad0ab6-050d-4861-c5f6-7a6bc6ae7ba1"
      },
      "source": [
        "img = keras.preprocessing.image.load_img('b.jpg')\n",
        "img = keras.preprocessing.image.img_to_array(img)\n",
        "heatmap = np.uint8(255 * heatmap)\n",
        "jet = cm.get_cmap(\"jet\")\n",
        "jet_colors = jet(np.arange(256))[:, :3]\n",
        "jet_heatmap = jet_colors[heatmap]\n",
        "jet_heatmap = keras.preprocessing.image.array_to_img(jet_heatmap)\n",
        "jet_heatmap = jet_heatmap.resize((img.shape[1], img.shape[0]))\n",
        "jet_heatmap = keras.preprocessing.image.img_to_array(jet_heatmap)\n",
        "superimposed_img = jet_heatmap  + img\n",
        "superimposed_img = keras.preprocessing.image.array_to_img(superimposed_img)\n",
        "save_path = \"final_image_dog.jpg\"\n",
        "superimposed_img.save(save_path)\n",
        "display(Image(save_path))"
      ],
      "execution_count": 157,
      "outputs": [
        {
          "output_type": "display_data",
          "data": {
            "image/jpeg": "[encoded data removed]",
            "text/plain": [
              "<IPython.core.display.Image object>"
            ]
          },
          "metadata": {
            "tags": []
          }
        }
      ]
    },
    {
      "cell_type": "code",
      "metadata": {
        "id": "SWB0zVI5fFDy",
        "colab_type": "code",
        "colab": {}
      },
      "source": [
        ""
      ],
      "execution_count": 159,
      "outputs": []
    },
    {
      "cell_type": "code",
      "metadata": {
        "id": "vUlIUaHZN2QS",
        "colab_type": "code",
        "colab": {}
      },
      "source": [
        "def make_gradcam_heatmap(\n",
        "    img_array, model, last_conv_layer_name, classifier_layer_names\n",
        "):\n",
        "    # First, we create a model that maps the input image to the activations\n",
        "    # of the last conv layer\n",
        "    last_conv_layer = model.get_layer(last_conv_layer_name)\n",
        "    last_conv_layer_model = keras.Model(model.inputs, last_conv_layer.output)\n",
        "    last_conv_layer_model.summary()\n",
        "\n",
        "    # Second, we create a model that maps the activations of the last conv\n",
        "    # layer to the final class predictions\n",
        "    classifier_input = keras.Input(shape=last_conv_layer.output.shape[1:])\n",
        "    x = classifier_input\n",
        "    for layer_name in classifier_layer_names:\n",
        "        x = model.get_layer(layer_name)(x)\n",
        "    classifier_model = keras.Model(classifier_input, x)\n",
        "    classifier_model.summary()\n",
        "\n",
        "    # Then, we compute the gradient of the top predicted class for our input image\n",
        "    # with respect to the activations of the last conv layer\n",
        "    with tf.GradientTape() as tape:\n",
        "        # Compute activations of the last conv layer and make the tape watch it\n",
        "        last_conv_layer_output = last_conv_layer_model(img_array)\n",
        "        tape.watch(last_conv_layer_output)\n",
        "        # Compute class predictions\n",
        "        preds = classifier_model(last_conv_layer_output)\n",
        "        top_pred_index = tf.argmax(preds[0])\n",
        "        top_class_channel = preds[:, top_pred_index]\n",
        "\n",
        "    # This is the gradient of the top predicted class with regard to\n",
        "    # the output feature map of the last conv layer\n",
        "    grads = tape.gradient(top_class_channel, last_conv_layer_output)\n",
        "\n",
        "    # This is a vector where each entry is the mean intensity of the gradient\n",
        "    # over a specific feature map channel\n",
        "    pooled_grads = tf.reduce_mean(grads, axis=(0, 1, 2))\n",
        "\n",
        "    # We multiply each channel in the feature map array\n",
        "    # by \"how important this channel is\" with regard to the top predicted class\n",
        "    last_conv_layer_output = last_conv_layer_output.numpy()[0]\n",
        "    pooled_grads = pooled_grads.numpy()\n",
        "    for i in range(pooled_grads.shape[-1]):\n",
        "        last_conv_layer_output[:, :, i] *= pooled_grads[i]\n",
        "\n",
        "    # The channel-wise mean of the resulting feature map\n",
        "    # is our heatmap of class activation\n",
        "    heatmap = np.mean(last_conv_layer_output, axis=-1)\n",
        "\n",
        "    # For visualization purpose, we will also normalize the heatmap between 0 & 1\n",
        "    heatmap = np.maximum(heatmap, 0) / np.max(heatmap)\n",
        "    return heatmap"
      ],
      "execution_count": 164,
      "outputs": []
    },
    {
      "cell_type": "code",
      "metadata": {
        "id": "u3Fccj0jOnhR",
        "colab_type": "code",
        "colab": {}
      },
      "source": [
        "last_conv_layer_name = 'dropout_32'\n",
        "classifier_layer_names = [\n",
        "    \"flatten_5\",'dense_10','activation_46','batch_normalization_43','dropout_33','dense_11','activation_47'\n",
        "]\n",
        "#img = np.expand_dims(img,axis=0)"
      ],
      "execution_count": 168,
      "outputs": []
    },
    {
      "cell_type": "code",
      "metadata": {
        "id": "dUYPGQQ3N4ys",
        "colab_type": "code",
        "colab": {
          "base_uri": "https://localhost:8080/",
          "height": 1000
        },
        "outputId": "08edea37-79e9-4681-b48b-e285647b0596"
      },
      "source": [
        "heatmap = make_gradcam_heatmap(\n",
        "    img, model, last_conv_layer_name, classifier_layer_names\n",
        ")"
      ],
      "execution_count": 172,
      "outputs": [
        {
          "output_type": "stream",
          "text": [
            "Model: \"functional_51\"\n",
            "_________________________________________________________________\n",
            "Layer (type)                 Output Shape              Param #   \n",
            "=================================================================\n",
            "conv2d_38_input (InputLayer) [(None, 32, 32, 3)]       0         \n",
            "_________________________________________________________________\n",
            "conv2d_38 (Conv2D)           (None, 32, 32, 64)        1792      \n",
            "_________________________________________________________________\n",
            "activation_39 (Activation)   (None, 32, 32, 64)        0         \n",
            "_________________________________________________________________\n",
            "batch_normalization_36 (Batc (None, 32, 32, 64)        256       \n",
            "_________________________________________________________________\n",
            "dropout_28 (Dropout)         (None, 32, 32, 64)        0         \n",
            "_________________________________________________________________\n",
            "conv2d_39 (Conv2D)           (None, 32, 32, 64)        36928     \n",
            "_________________________________________________________________\n",
            "activation_40 (Activation)   (None, 32, 32, 64)        0         \n",
            "_________________________________________________________________\n",
            "batch_normalization_37 (Batc (None, 32, 32, 64)        256       \n",
            "_________________________________________________________________\n",
            "max_pooling2d_14 (MaxPooling (None, 16, 16, 64)        0         \n",
            "_________________________________________________________________\n",
            "conv2d_40 (Conv2D)           (None, 16, 16, 128)       73856     \n",
            "_________________________________________________________________\n",
            "activation_41 (Activation)   (None, 16, 16, 128)       0         \n",
            "_________________________________________________________________\n",
            "batch_normalization_38 (Batc (None, 16, 16, 128)       512       \n",
            "_________________________________________________________________\n",
            "dropout_29 (Dropout)         (None, 16, 16, 128)       0         \n",
            "_________________________________________________________________\n",
            "conv2d_41 (Conv2D)           (None, 16, 16, 128)       147584    \n",
            "_________________________________________________________________\n",
            "activation_42 (Activation)   (None, 16, 16, 128)       0         \n",
            "_________________________________________________________________\n",
            "batch_normalization_39 (Batc (None, 16, 16, 128)       512       \n",
            "_________________________________________________________________\n",
            "max_pooling2d_15 (MaxPooling (None, 8, 8, 128)         0         \n",
            "_________________________________________________________________\n",
            "conv2d_42 (Conv2D)           (None, 8, 8, 256)         295168    \n",
            "_________________________________________________________________\n",
            "activation_43 (Activation)   (None, 8, 8, 256)         0         \n",
            "_________________________________________________________________\n",
            "batch_normalization_40 (Batc (None, 8, 8, 256)         1024      \n",
            "_________________________________________________________________\n",
            "dropout_30 (Dropout)         (None, 8, 8, 256)         0         \n",
            "_________________________________________________________________\n",
            "conv2d_43 (Conv2D)           (None, 8, 8, 256)         590080    \n",
            "_________________________________________________________________\n",
            "activation_44 (Activation)   (None, 8, 8, 256)         0         \n",
            "_________________________________________________________________\n",
            "batch_normalization_41 (Batc (None, 8, 8, 256)         1024      \n",
            "_________________________________________________________________\n",
            "dropout_31 (Dropout)         (None, 8, 8, 256)         0         \n",
            "_________________________________________________________________\n",
            "conv2d_44 (Conv2D)           (None, 8, 8, 256)         590080    \n",
            "_________________________________________________________________\n",
            "activation_45 (Activation)   (None, 8, 8, 256)         0         \n",
            "_________________________________________________________________\n",
            "batch_normalization_42 (Batc (None, 8, 8, 256)         1024      \n",
            "_________________________________________________________________\n",
            "max_pooling2d_16 (MaxPooling (None, 4, 4, 256)         0         \n",
            "_________________________________________________________________\n",
            "dropout_32 (Dropout)         (None, 4, 4, 256)         0         \n",
            "=================================================================\n",
            "Total params: 1,740,096\n",
            "Trainable params: 1,737,792\n",
            "Non-trainable params: 2,304\n",
            "_________________________________________________________________\n",
            "Model: \"functional_53\"\n",
            "_________________________________________________________________\n",
            "Layer (type)                 Output Shape              Param #   \n",
            "=================================================================\n",
            "input_23 (InputLayer)        [(None, 4, 4, 256)]       0         \n",
            "_________________________________________________________________\n",
            "flatten_5 (Flatten)          multiple                  0         \n",
            "_________________________________________________________________\n",
            "dense_10 (Dense)             (None, 512)               2097664   \n",
            "_________________________________________________________________\n",
            "activation_46 (Activation)   (None, 512)               0         \n",
            "_________________________________________________________________\n",
            "batch_normalization_43 (Batc (None, 512)               2048      \n",
            "_________________________________________________________________\n",
            "dropout_33 (Dropout)         (None, 512)               0         \n",
            "_________________________________________________________________\n",
            "dense_11 (Dense)             (None, 100)               51300     \n",
            "_________________________________________________________________\n",
            "activation_47 (Activation)   (None, 100)               0         \n",
            "=================================================================\n",
            "Total params: 2,151,012\n",
            "Trainable params: 2,149,988\n",
            "Non-trainable params: 1,024\n",
            "_________________________________________________________________\n"
          ],
          "name": "stdout"
        }
      ]
    },
    {
      "cell_type": "code",
      "metadata": {
        "id": "nmEc4mivOv8S",
        "colab_type": "code",
        "colab": {
          "base_uri": "https://localhost:8080/",
          "height": 275
        },
        "outputId": "4d85929e-9878-4a7c-dfb8-a68142fe068f"
      },
      "source": [
        "plt.matshow(heatmap)\n",
        "plt.show()"
      ],
      "execution_count": 173,
      "outputs": [
        {
          "output_type": "display_data",
          "data": {
            "image/png": "[encoded data removed]",
            "text/plain": [
              "<Figure size 288x288 with 1 Axes>"
            ]
          },
          "metadata": {
            "tags": [],
            "needs_background": "light"
          }
        }
      ]
    },
    {
      "cell_type": "code",
      "metadata": {
        "id": "Br7GmF4GPMq9",
        "colab_type": "code",
        "colab": {
          "base_uri": "https://localhost:8080/",
          "height": 619
        },
        "outputId": "129a786a-f8d7-42b1-ad0c-53fa07ce4cac"
      },
      "source": [
        "# We load the original image\n",
        "img = keras.preprocessing.image.load_img('b.jpg')\n",
        "img = keras.preprocessing.image.img_to_array(img)\n",
        "\n",
        "# We rescale heatmap to a range 0-255\n",
        "heatmap = np.uint8(255 * heatmap)\n",
        "\n",
        "# We use jet colormap to colorize heatmap\n",
        "jet = cm.get_cmap(\"jet\")\n",
        "\n",
        "# We use RGB values of the colormap\n",
        "jet_colors = jet(np.arange(256))[:, :3]\n",
        "jet_heatmap = jet_colors[heatmap]\n",
        "\n",
        "# We create an image with RGB colorized heatmap\n",
        "jet_heatmap = keras.preprocessing.image.array_to_img(jet_heatmap)\n",
        "jet_heatmap = jet_heatmap.resize((img.shape[1], img.shape[0]))\n",
        "jet_heatmap = keras.preprocessing.image.img_to_array(jet_heatmap)\n",
        "\n",
        "# Superimpose the heatmap on original image\n",
        "superimposed_img = jet_heatmap + img\n",
        "superimposed_img = keras.preprocessing.image.array_to_img(superimposed_img)\n",
        "\n",
        "# Save the superimposed image\n",
        "save_path = \"man_gradcam.jpg\"\n",
        "superimposed_img.save(save_path)\n",
        "\n",
        "# Display Grad CAM\n",
        "display(Image(save_path))\n"
      ],
      "execution_count": 175,
      "outputs": [
        {
          "output_type": "display_data",
          "data": {
            "image/jpeg": "[encoded data removed]",
            "text/plain": [
              "<IPython.core.display.Image object>"
            ]
          },
          "metadata": {
            "tags": []
          }
        }
      ]
    },
    {
      "cell_type": "code",
      "metadata": {
        "id": "NEgzD8w-Qt6e",
        "colab_type": "code",
        "colab": {}
      },
      "source": [
        ""
      ],
      "execution_count": null,
      "outputs": []
    }
  ]
}